{
  "nbformat": 4,
  "nbformat_minor": 0,
  "metadata": {
    "colab": {
      "provenance": [],
      "authorship_tag": "ABX9TyPOLgpaTX36oKq0ft/UVozu",
      "include_colab_link": true
    },
    "kernelspec": {
      "name": "python3",
      "display_name": "Python 3"
    },
    "language_info": {
      "name": "python"
    }
  },
  "cells": [
    {
      "cell_type": "markdown",
      "metadata": {
        "id": "view-in-github",
        "colab_type": "text"
      },
      "source": [
        "<a href=\"https://colab.research.google.com/github/luisgch2004/PC_01_QUIMICA/blob/main/Cinetica_quimica.ipynb\" target=\"_parent\"><img src=\"https://colab.research.google.com/assets/colab-badge.svg\" alt=\"Open In Colab\"/></a>"
      ]
    },
    {
      "cell_type": "code",
      "execution_count": 70,
      "metadata": {
        "colab": {
          "base_uri": "https://localhost:8080/"
        },
        "id": "VYMzbjAGFe82",
        "outputId": "5ac552cc-f404-4800-d5bd-6082805578af"
      },
      "outputs": [
        {
          "output_type": "stream",
          "name": "stdout",
          "text": [
            "Requirement already satisfied: rdkit in /usr/local/lib/python3.10/dist-packages (2023.9.1)\n",
            "Requirement already satisfied: numpy in /usr/local/lib/python3.10/dist-packages (from rdkit) (1.23.5)\n",
            "Requirement already satisfied: Pillow in /usr/local/lib/python3.10/dist-packages (from rdkit) (9.4.0)\n",
            "Requirement already satisfied: pyscf in /usr/local/lib/python3.10/dist-packages (2.4.0)\n",
            "Requirement already satisfied: numpy!=1.16,!=1.17,>=1.13 in /usr/local/lib/python3.10/dist-packages (from pyscf) (1.23.5)\n",
            "Requirement already satisfied: scipy!=1.5.0,!=1.5.1 in /usr/local/lib/python3.10/dist-packages (from pyscf) (1.11.3)\n",
            "Requirement already satisfied: h5py>=2.7 in /usr/local/lib/python3.10/dist-packages (from pyscf) (3.9.0)\n",
            "Requirement already satisfied: setuptools in /usr/local/lib/python3.10/dist-packages (from pyscf) (67.7.2)\n"
          ]
        }
      ],
      "source": [
        "! pip install rdkit\n",
        "! pip install pyscf"
      ]
    },
    {
      "cell_type": "code",
      "source": [
        "from rdkit import Chem\n",
        "from rdkit.Chem import Draw\n",
        "from rdkit.Chem import AllChem\n",
        "from rdkit.Chem.Draw import IPythonConsole\n",
        "IPythonConsole.drawOptions.addAtomIndices = True"
      ],
      "metadata": {
        "id": "eKXa85TfF78f"
      },
      "execution_count": 72,
      "outputs": []
    },
    {
      "cell_type": "code",
      "source": [
        "smiles = \"F\\C=C/C\"\n",
        "\n",
        "mol = Chem.MolFromSmiles(smiles)\n",
        "\n",
        "Draw.MolsToGridImage([mol])"
      ],
      "metadata": {
        "colab": {
          "base_uri": "https://localhost:8080/",
          "height": 217
        },
        "id": "dJ_bcDHghsp7",
        "outputId": "90c35e8c-898c-4518-da63-d6f925163f38"
      },
      "execution_count": 73,
      "outputs": [
        {
          "output_type": "execute_result",
          "data": {
            "image/png": "[encoded data removed]",
            "text/plain": [
              "<IPython.core.display.Image object>"
            ]
          },
          "metadata": {},
          "execution_count": 73
        }
      ]
    },
    {
      "cell_type": "code",
      "source": [
        "print(Chem.MolToMolBlock(mol))"
      ],
      "metadata": {
        "colab": {
          "base_uri": "https://localhost:8080/"
        },
        "id": "HT_MxWf0h_Tt",
        "outputId": "d0282c77-9faa-4a94-baf6-d254df3529a0"
      },
      "execution_count": 74,
      "outputs": [
        {
          "output_type": "stream",
          "name": "stdout",
          "text": [
            "\n",
            "     RDKit          2D\n",
            "\n",
            "  4  3  0  0  0  0  0  0  0  0999 V2000\n",
            "   -0.7500   -1.2990    0.0000 F   0  0  0  0  0  0  0  0  0  0  0  0\n",
            "    0.0000    0.0000    0.0000 C   0  0  0  0  0  0  0  0  0  0  0  0\n",
            "    1.5000    0.0000    0.0000 C   0  0  0  0  0  0  0  0  0  0  0  0\n",
            "    2.2500   -1.2990    0.0000 C   0  0  0  0  0  0  0  0  0  0  0  0\n",
            "  1  2  1  0\n",
            "  2  3  2  0\n",
            "  3  4  1  0\n",
            "M  END\n",
            "\n"
          ]
        }
      ]
    },
    {
      "cell_type": "code",
      "source": [
        "Chem.MolToXYZFile(mol,\"kc.xyz\")"
      ],
      "metadata": {
        "colab": {
          "base_uri": "https://localhost:8080/"
        },
        "id": "Si2OW1wvi3Tx",
        "outputId": "27fbdf7a-eb75-4fd7-b4ea-092c58c5db95"
      },
      "execution_count": 75,
      "outputs": [
        {
          "output_type": "stream",
          "name": "stderr",
          "text": [
            "[23:53:22] Cannot write molecules with no conformers to XYZ block\n"
          ]
        }
      ]
    },
    {
      "cell_type": "code",
      "source": [
        "smiles = \"F\\C=C/C\"\n",
        "cis = Chem.MolFromSmiles(smiles)\n",
        "cis"
      ],
      "metadata": {
        "colab": {
          "base_uri": "https://localhost:8080/",
          "height": 167
        },
        "id": "4PUi2TEtky_T",
        "outputId": "6a71c3c3-35ad-4a74-c88c-cf2538ec26b9"
      },
      "execution_count": 76,
      "outputs": [
        {
          "output_type": "execute_result",
          "data": {
            "text/plain": [
              "<rdkit.Chem.rdchem.Mol at 0x7c2160702b20>"
            ],
            "image/png": "[encoded data removed]"
          },
          "metadata": {},
          "execution_count": 76
        }
      ]
    },
    {
      "cell_type": "code",
      "source": [
        "smiles = \"F\\C=C/C\"\n",
        "cis = Chem.MolFromSmiles(smiles)\n",
        "Chem.AllChem.EmbedMolecule(cis)\n",
        "Chem.MolToXYZFile(cis, \"cis.xyz\")\n",
        "cis"
      ],
      "metadata": {
        "colab": {
          "base_uri": "https://localhost:8080/",
          "height": 185
        },
        "id": "obvZ6B6IEyP-",
        "outputId": "c1e6d250-20c9-4184-e1ac-24da2b5da498"
      },
      "execution_count": 77,
      "outputs": [
        {
          "output_type": "stream",
          "name": "stderr",
          "text": [
            "[23:53:27] Molecule does not have explicit Hs. Consider calling AddHs()\n"
          ]
        },
        {
          "output_type": "execute_result",
          "data": {
            "text/plain": [
              "<rdkit.Chem.rdchem.Mol at 0x7c2160702ab0>"
            ],
            "image/png": "[encoded data removed]"
          },
          "metadata": {},
          "execution_count": 77
        }
      ]
    },
    {
      "cell_type": "code",
      "source": [
        "Chem.AllChem.SetDihedralDeg(cis.GetConformer(0),0,1,2,3,90.0)\n",
        "Chem.MolToXYZFile(cis, \"cis90.xyz\")\n",
        "cis"
      ],
      "metadata": {
        "colab": {
          "base_uri": "https://localhost:8080/",
          "height": 167
        },
        "id": "09BU76E0FDlH",
        "outputId": "390164f1-5200-4744-d61e-ce9958ccd345"
      },
      "execution_count": 78,
      "outputs": [
        {
          "output_type": "execute_result",
          "data": {
            "text/plain": [
              "<rdkit.Chem.rdchem.Mol at 0x7c2160702ab0>"
            ],
            "image/png": "[encoded data removed]"
          },
          "metadata": {},
          "execution_count": 78
        }
      ]
    },
    {
      "cell_type": "code",
      "source": [
        "smiles = \"F/C=C/C\"\n",
        "trans = Chem.MolFromSmiles(smiles)\n",
        "Chem.AllChem.EmbedMolecule(trans)\n",
        "Chem.MolToXYZFile(trans, \"trans.xyz\")\n",
        "trans"
      ],
      "metadata": {
        "colab": {
          "base_uri": "https://localhost:8080/",
          "height": 185
        },
        "id": "vAcVKhmJlM2H",
        "outputId": "d1df102a-50d0-4623-f7ee-bce2c1585dc8"
      },
      "execution_count": 79,
      "outputs": [
        {
          "output_type": "stream",
          "name": "stderr",
          "text": [
            "[23:53:32] Molecule does not have explicit Hs. Consider calling AddHs()\n"
          ]
        },
        {
          "output_type": "execute_result",
          "data": {
            "text/plain": [
              "<rdkit.Chem.rdchem.Mol at 0x7c2160702b90>"
            ],
            "image/png": "[encoded data removed]"
          },
          "metadata": {},
          "execution_count": 79
        }
      ]
    },
    {
      "cell_type": "code",
      "source": [
        "Chem.AllChem.SetDihedralDeg(trans.GetConformer(0),0,1,2,3,90.0)\n",
        "Chem.MolToXYZFile(trans, \"trans90.xyz\")\n",
        "trans"
      ],
      "metadata": {
        "colab": {
          "base_uri": "https://localhost:8080/",
          "height": 167
        },
        "id": "0Mnv5Fclk91U",
        "outputId": "7f333f9c-b3c2-44ae-f598-3409f91ee692"
      },
      "execution_count": 80,
      "outputs": [
        {
          "output_type": "execute_result",
          "data": {
            "text/plain": [
              "<rdkit.Chem.rdchem.Mol at 0x7c2160702b90>"
            ],
            "image/png": "[encoded data removed]"
          },
          "metadata": {},
          "execution_count": 80
        }
      ]
    },
    {
      "cell_type": "markdown",
      "source": [
        "##energia de activacion y tipo de reaccion"
      ],
      "metadata": {
        "id": "YD7FvSX9MjPs"
      }
    },
    {
      "cell_type": "code",
      "source": [
        "!apt-get -qq install -y openbabel"
      ],
      "metadata": {
        "colab": {
          "base_uri": "https://localhost:8080/"
        },
        "id": "YX6MchijFnMq",
        "outputId": "660fd800-366a-45a2-d82b-8abd84e6b65c"
      },
      "execution_count": 43,
      "outputs": [
        {
          "output_type": "stream",
          "name": "stdout",
          "text": [
            "Selecting previously unselected package libinchi1.\n",
            "(Reading database ... 120874 files and directories currently installed.)\n",
            "Preparing to unpack .../libinchi1_1.03+dfsg-4_amd64.deb ...\n",
            "Unpacking libinchi1 (1.03+dfsg-4) ...\n",
            "Selecting previously unselected package libmaeparser1:amd64.\n",
            "Preparing to unpack .../libmaeparser1_1.2.4-1build1_amd64.deb ...\n",
            "Unpacking libmaeparser1:amd64 (1.2.4-1build1) ...\n",
            "Selecting previously unselected package libopenbabel7.\n",
            "Preparing to unpack .../libopenbabel7_3.1.1+dfsg-6ubuntu5_amd64.deb ...\n",
            "Unpacking libopenbabel7 (3.1.1+dfsg-6ubuntu5) ...\n",
            "Selecting previously unselected package openbabel.\n",
            "Preparing to unpack .../openbabel_3.1.1+dfsg-6ubuntu5_amd64.deb ...\n",
            "Unpacking openbabel (3.1.1+dfsg-6ubuntu5) ...\n",
            "Setting up libmaeparser1:amd64 (1.2.4-1build1) ...\n",
            "Setting up libinchi1 (1.03+dfsg-4) ...\n",
            "Setting up libopenbabel7 (3.1.1+dfsg-6ubuntu5) ...\n",
            "Setting up openbabel (3.1.1+dfsg-6ubuntu5) ...\n",
            "Processing triggers for libc-bin (2.35-0ubuntu3.1) ...\n",
            "/sbin/ldconfig.real: /usr/local/lib/libtbbbind.so.3 is not a symbolic link\n",
            "\n",
            "/sbin/ldconfig.real: /usr/local/lib/libtbbbind_2_0.so.3 is not a symbolic link\n",
            "\n",
            "/sbin/ldconfig.real: /usr/local/lib/libtbb.so.12 is not a symbolic link\n",
            "\n",
            "/sbin/ldconfig.real: /usr/local/lib/libtbbmalloc.so.2 is not a symbolic link\n",
            "\n",
            "/sbin/ldconfig.real: /usr/local/lib/libtbbmalloc_proxy.so.2 is not a symbolic link\n",
            "\n",
            "/sbin/ldconfig.real: /usr/local/lib/libtbbbind_2_5.so.3 is not a symbolic link\n",
            "\n",
            "Processing triggers for man-db (2.10.2-1) ...\n"
          ]
        }
      ]
    },
    {
      "cell_type": "code",
      "source": [
        "!obabel -i smi cis.txt -o sdf --gen3D > cis.sdf"
      ],
      "metadata": {
        "colab": {
          "base_uri": "https://localhost:8080/"
        },
        "id": "kfVELMUyGiSr",
        "outputId": "f2084bec-858f-4a11-af33-3965c96be8db"
      },
      "execution_count": 81,
      "outputs": [
        {
          "output_type": "stream",
          "name": "stdout",
          "text": [
            "1 molecule converted\n"
          ]
        }
      ]
    },
    {
      "cell_type": "code",
      "source": [
        "!grep WARNING cis.sdf"
      ],
      "metadata": {
        "id": "HIkvSOBOG0hA"
      },
      "execution_count": 82,
      "outputs": []
    },
    {
      "cell_type": "code",
      "source": [
        "!obabel -i sdf cis.sdf -o mol2 -O cis.mol2 -h -m"
      ],
      "metadata": {
        "colab": {
          "base_uri": "https://localhost:8080/"
        },
        "id": "vFS1pICKG4Z1",
        "outputId": "b71241ed-03b1-48ed-a083-624ac2257216"
      },
      "execution_count": 83,
      "outputs": [
        {
          "output_type": "stream",
          "name": "stdout",
          "text": [
            "1 molecule converted\n"
          ]
        }
      ]
    },
    {
      "cell_type": "code",
      "source": [
        "!obabel *.mol2 -O ciss.xyz --minimize --sd --steps 20000 --ff MMFF94 -p 7.4 --log -m"
      ],
      "metadata": {
        "colab": {
          "base_uri": "https://localhost:8080/"
        },
        "id": "tDo6oEvHF4Yz",
        "outputId": "591d143a-8fcc-4d20-f3a7-3aa6a8df2102"
      },
      "execution_count": 84,
      "outputs": [
        {
          "output_type": "stream",
          "name": "stdout",
          "text": [
            "\n",
            "A T O M   T Y P E S\n",
            "\n",
            "IDX\tTYPE\tRING\n",
            "1\t11\tNO\n",
            "2\t2\tNO\n",
            "3\t2\tNO\n",
            "4\t1\tNO\n",
            "5\t5\tNO\n",
            "6\t5\tNO\n",
            "7\t5\tNO\n",
            "8\t5\tNO\n",
            "9\t5\tNO\n",
            "\n",
            "F O R M A L   C H A R G E S\n",
            "\n",
            "IDX\tCHARGE\n",
            "1\t0.000000\n",
            "2\t0.000000\n",
            "3\t0.000000\n",
            "4\t0.000000\n",
            "5\t0.000000\n",
            "6\t0.000000\n",
            "7\t0.000000\n",
            "8\t0.000000\n",
            "9\t0.000000\n",
            "\n",
            "P A R T I A L   C H A R G E S\n",
            "\n",
            "IDX\tCHARGE\n",
            "1\t-0.149500\n",
            "2\t-0.000500\n",
            "3\t-0.288200\n",
            "4\t0.138200\n",
            "5\t0.150000\n",
            "6\t0.150000\n",
            "7\t0.000000\n",
            "8\t0.000000\n",
            "9\t0.000000\n",
            "\n",
            "S E T T I N G   U P   C A L C U L A T I O N S\n",
            "\n",
            "SETTING UP BOND CALCULATIONS...\n",
            "SETTING UP ANGLE & STRETCH-BEND CALCULATIONS...\n",
            "SETTING UP TORSION CALCULATIONS...\n",
            "SETTING UP OOP CALCULATIONS...\n",
            "SETTING UP VAN DER WAALS CALCULATIONS...\n",
            "SETTING UP ELECTROSTATIC CALCULATIONS...\n",
            "\n",
            "S T E E P E S T   D E S C E N T\n",
            "\n",
            "STEPS = 20000\n",
            "\n",
            "STEP n       E(n)         E(n-1)    \n",
            "------------------------------------\n",
            "    0      -0.029      ----\n",
            "   10    -0.02935    -0.02932\n",
            "   20    -0.02959    -0.02957\n",
            "   30    -0.02973    -0.02972\n",
            "   40    -0.02981    -0.02980\n",
            "   50    -0.02985    -0.02985\n",
            "   60    -0.02988    -0.02988\n",
            "   70    -0.02989    -0.02989\n",
            "    STEEPEST DESCENT HAS CONVERGED\n",
            "\n",
            "A T O M   T Y P E S\n",
            "\n",
            "IDX\tTYPE\tRING\n",
            "1\t11\tNO\n",
            "2\t2\tNO\n",
            "3\t2\tNO\n",
            "4\t1\tNO\n",
            "5\t5\tNO\n",
            "6\t5\tNO\n",
            "7\t5\tNO\n",
            "8\t5\tNO\n",
            "9\t5\tNO\n",
            "\n",
            "F O R M A L   C H A R G E S\n",
            "\n",
            "IDX\tCHARGE\n",
            "1\t-0.149500\n",
            "2\t-0.000500\n",
            "3\t-0.288200\n",
            "4\t0.138200\n",
            "5\t0.150000\n",
            "6\t0.150000\n",
            "7\t0.000000\n",
            "8\t0.000000\n",
            "9\t0.000000\n",
            "\n",
            "P A R T I A L   C H A R G E S\n",
            "\n",
            "IDX\tCHARGE\n",
            "1\t-0.149500\n",
            "2\t-0.000500\n",
            "3\t-0.288200\n",
            "4\t0.138200\n",
            "5\t0.150000\n",
            "6\t0.150000\n",
            "7\t0.000000\n",
            "8\t0.000000\n",
            "9\t0.000000\n",
            "\n",
            "S T E E P E S T   D E S C E N T\n",
            "\n",
            "STEPS = 20000\n",
            "\n",
            "STEP n       E(n)         E(n-1)    \n",
            "------------------------------------\n",
            "    0      -0.368      ----\n",
            "   10    -0.37233    -0.37205\n",
            "   20    -0.37453    -0.37436\n",
            "   30    -0.37589    -0.37578\n",
            "   40    -0.37673    -0.37666\n",
            "   50    -0.37725    -0.37721\n",
            "   60    -0.37757    -0.37755\n",
            "   70    -0.37777    -0.37775\n",
            "   80    -0.37789    -0.37788\n",
            "   90    -0.37797    -0.37796\n",
            "  100    -0.37802    -0.37801\n",
            "  110    -0.37805    -0.37805\n",
            "  120    -0.37807    -0.37806\n",
            "    STEEPEST DESCENT HAS CONVERGED\n",
            "2 molecules converted\n",
            "2 files output. The first is cisscis1.xyz\n"
          ]
        }
      ]
    },
    {
      "cell_type": "code",
      "source": [
        "from pyscf import gto, scf"
      ],
      "metadata": {
        "id": "y8MA7jNfjNxl"
      },
      "execution_count": 85,
      "outputs": []
    },
    {
      "cell_type": "code",
      "source": [
        "Cis= gto.M(atom=\"ciss1.xyz\")"
      ],
      "metadata": {
        "id": "pNXlfKiTHS9Y"
      },
      "execution_count": 86,
      "outputs": []
    },
    {
      "cell_type": "code",
      "source": [
        "Cis.basis = \"3-21G\"\n",
        "mf = Cis.KS()\n",
        "mf.xc = 'b3lyp'\n",
        "Cis_energy = mf.kernel()"
      ],
      "metadata": {
        "colab": {
          "base_uri": "https://localhost:8080/"
        },
        "id": "n6AZO9bhHmHK",
        "outputId": "c0227644-ee49-41c6-90f0-43f4a7a3349c"
      },
      "execution_count": 87,
      "outputs": [
        {
          "output_type": "stream",
          "name": "stdout",
          "text": [
            "converged SCF energy = -214.246987795252\n"
          ]
        }
      ]
    },
    {
      "cell_type": "code",
      "source": [
        "Cis_energy"
      ],
      "metadata": {
        "colab": {
          "base_uri": "https://localhost:8080/"
        },
        "id": "uqTzoeJ9IVCp",
        "outputId": "4e1a373a-6af3-43d8-bb53-77ee3ac2d08b"
      },
      "execution_count": 88,
      "outputs": [
        {
          "output_type": "execute_result",
          "data": {
            "text/plain": [
              "-214.24698779525193"
            ]
          },
          "metadata": {},
          "execution_count": 88
        }
      ]
    },
    {
      "cell_type": "code",
      "source": [
        "#trans\n",
        "!obabel -i smi Trans.txt -o sdf --gen3D > trans.sdf"
      ],
      "metadata": {
        "colab": {
          "base_uri": "https://localhost:8080/"
        },
        "id": "JJnumRFBIfp5",
        "outputId": "13e5e0e7-6f61-4f95-93e1-97c803e50a17"
      },
      "execution_count": 89,
      "outputs": [
        {
          "output_type": "stream",
          "name": "stdout",
          "text": [
            "1 molecule converted\n"
          ]
        }
      ]
    },
    {
      "cell_type": "code",
      "source": [
        "!grep WARNING trans.sdf"
      ],
      "metadata": {
        "id": "7ng0rDnBIqRB"
      },
      "execution_count": 90,
      "outputs": []
    },
    {
      "cell_type": "code",
      "source": [
        "!obabel -i sdf trans.sdf -o mol2 -O trans.mol2 -h -m"
      ],
      "metadata": {
        "colab": {
          "base_uri": "https://localhost:8080/"
        },
        "id": "E-GN5JQWIxSD",
        "outputId": "53aa157b-9246-4d4e-8b76-3648df18bc81"
      },
      "execution_count": 91,
      "outputs": [
        {
          "output_type": "stream",
          "name": "stdout",
          "text": [
            "1 molecule converted\n"
          ]
        }
      ]
    },
    {
      "cell_type": "code",
      "source": [
        "!obabel trans1.mol2 -O transs.xyz --minimize --sd --steps 20000 --ff MMFF94 -p 7.4 --log -m"
      ],
      "metadata": {
        "colab": {
          "base_uri": "https://localhost:8080/"
        },
        "id": "UP4eELGqI2ZM",
        "outputId": "5b702feb-806a-4e3f-8cb3-410205450fcd"
      },
      "execution_count": 92,
      "outputs": [
        {
          "output_type": "stream",
          "name": "stdout",
          "text": [
            "\n",
            "A T O M   T Y P E S\n",
            "\n",
            "IDX\tTYPE\tRING\n",
            "1\t11\tNO\n",
            "2\t2\tNO\n",
            "3\t2\tNO\n",
            "4\t1\tNO\n",
            "5\t5\tNO\n",
            "6\t5\tNO\n",
            "7\t5\tNO\n",
            "8\t5\tNO\n",
            "9\t5\tNO\n",
            "\n",
            "F O R M A L   C H A R G E S\n",
            "\n",
            "IDX\tCHARGE\n",
            "1\t0.000000\n",
            "2\t0.000000\n",
            "3\t0.000000\n",
            "4\t0.000000\n",
            "5\t0.000000\n",
            "6\t0.000000\n",
            "7\t0.000000\n",
            "8\t0.000000\n",
            "9\t0.000000\n",
            "\n",
            "P A R T I A L   C H A R G E S\n",
            "\n",
            "IDX\tCHARGE\n",
            "1\t-0.149500\n",
            "2\t-0.000500\n",
            "3\t-0.288200\n",
            "4\t0.138200\n",
            "5\t0.150000\n",
            "6\t0.150000\n",
            "7\t0.000000\n",
            "8\t0.000000\n",
            "9\t0.000000\n",
            "\n",
            "S E T T I N G   U P   C A L C U L A T I O N S\n",
            "\n",
            "SETTING UP BOND CALCULATIONS...\n",
            "SETTING UP ANGLE & STRETCH-BEND CALCULATIONS...\n",
            "SETTING UP TORSION CALCULATIONS...\n",
            "SETTING UP OOP CALCULATIONS...\n",
            "SETTING UP VAN DER WAALS CALCULATIONS...\n",
            "SETTING UP ELECTROSTATIC CALCULATIONS...\n",
            "\n",
            "S T E E P E S T   D E S C E N T\n",
            "\n",
            "STEPS = 20000\n",
            "\n",
            "STEP n       E(n)         E(n-1)    \n",
            "------------------------------------\n",
            "    0      -0.377      ----\n",
            "   10    -0.37777    -0.37775\n",
            "   20    -0.37791    -0.37790\n",
            "   30    -0.37798    -0.37798\n",
            "   40    -0.37803    -0.37802\n",
            "   50    -0.37805    -0.37805\n",
            "   60    -0.37807    -0.37807\n",
            "    STEEPEST DESCENT HAS CONVERGED\n",
            "1 molecule converted\n"
          ]
        }
      ]
    },
    {
      "cell_type": "code",
      "source": [
        "Trans= gto.M(atom=\"transs1.xyz\")"
      ],
      "metadata": {
        "id": "cNq3-38GI8_7"
      },
      "execution_count": 93,
      "outputs": []
    },
    {
      "cell_type": "code",
      "source": [
        "Trans.basis = \"3-21G\"\n",
        "mf = Trans.KS()\n",
        "mf.xc = 'b3lyp'\n",
        "Trans_energy = mf.kernel()"
      ],
      "metadata": {
        "colab": {
          "base_uri": "https://localhost:8080/"
        },
        "id": "zuI5sBKbJCuv",
        "outputId": "18ddccc5-3809-4363-99c0-3f34c1662772"
      },
      "execution_count": 94,
      "outputs": [
        {
          "output_type": "stream",
          "name": "stdout",
          "text": [
            "converged SCF energy = -214.246125877919\n"
          ]
        }
      ]
    },
    {
      "cell_type": "code",
      "source": [
        "Trans_energy"
      ],
      "metadata": {
        "colab": {
          "base_uri": "https://localhost:8080/"
        },
        "id": "mq0y0o1NNVvG",
        "outputId": "bf026cd4-514d-49b8-c597-69782bd219ce"
      },
      "execution_count": 95,
      "outputs": [
        {
          "output_type": "execute_result",
          "data": {
            "text/plain": [
              "-214.24612587791898"
            ]
          },
          "metadata": {},
          "execution_count": 95
        }
      ]
    },
    {
      "cell_type": "code",
      "source": [
        "activacion_energy = Trans_energy - Cis_energy\n",
        "if activacion_energy > 0:\n",
        "    reaccion = \"endotérmica\"\n",
        "elif activacion_energy < 0:\n",
        "    reaccione = \"exotérmica\"\n",
        "print(\"Energía de activación:\", activacion_energy)\n",
        "print(\"La reacción es\", reaccion)"
      ],
      "metadata": {
        "colab": {
          "base_uri": "https://localhost:8080/"
        },
        "id": "uqNh16Q9J4uC",
        "outputId": "bf8d5521-f645-4d18-88a5-92c9bedcc319"
      },
      "execution_count": 96,
      "outputs": [
        {
          "output_type": "stream",
          "name": "stdout",
          "text": [
            "Energía de activación: 0.0008619173329407204\n",
            "La reacción es endotérmica\n"
          ]
        }
      ]
    }
  ]
}