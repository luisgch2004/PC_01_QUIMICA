{
  "nbformat": 4,
  "nbformat_minor": 0,
  "metadata": {
    "colab": {
      "provenance": [],
      "authorship_tag": "ABX9TyN7gNG7afYrCg4dFqXKImW0",
      "include_colab_link": true
    },
    "kernelspec": {
      "name": "python3",
      "display_name": "Python 3"
    },
    "language_info": {
      "name": "python"
    }
  },
  "cells": [
    {
      "cell_type": "markdown",
      "metadata": {
        "id": "view-in-github",
        "colab_type": "text"
      },
      "source": [
        "<a href=\"https://colab.research.google.com/github/luisgch2004/PC_01_QUIMICA/blob/main/Concentraci%C3%B3n_fem_estandar.ipynb\" target=\"_parent\"><img src=\"https://colab.research.google.com/assets/colab-badge.svg\" alt=\"Open In Colab\"/></a>"
      ]
    },
    {
      "cell_type": "markdown",
      "source": [
        "##Quimica\n",
        "\n",
        "Grupo \"Los reactantes\"\n",
        "\n",
        "Integrantes:\n",
        "*   Luis Guevara\n",
        "*   Esther Ticlla\n",
        "*   Hector Zerrillo\n",
        "*   Luis Brenis\n",
        "*   Alvaro Cencia"
      ],
      "metadata": {
        "id": "wvI6UL0xuxdz"
      }
    },
    {
      "cell_type": "code",
      "source": [
        "import math"
      ],
      "metadata": {
        "id": "zJ2CoK8YvB_r"
      },
      "execution_count": 2,
      "outputs": []
    },
    {
      "cell_type": "code",
      "execution_count": 3,
      "metadata": {
        "colab": {
          "base_uri": "https://localhost:8080/"
        },
        "id": "wxpgX0AnunU-",
        "outputId": "a78992bd-500c-458f-e2b1-6c42f56b72f7"
      },
      "outputs": [
        {
          "output_type": "stream",
          "name": "stdout",
          "text": [
            "Calcular el efecto de la concentracion sobre la fem estandar: \n",
            "Ingrese la temperatura en kelvin: 298\n",
            "Ingrese el numero de moles: 2\n",
            "Ingrese la concentacion del primer elemento: 0.15\n",
            "Ingrese la concentacion del segundo elemento: 0.68\n",
            "Ingrese la fem estandar de la celda: -0.16\n",
            "El efecto de la concentracion sobre la fem estandar es:  -0.152 V\n"
          ]
        }
      ],
      "source": [
        "print(\"Calcular el efecto de la concentracion sobre la fem estandar: \")\n",
        "T=float(input(\"Ingrese la temperatura en kelvin: \"))\n",
        "n=float(input(\"Ingrese el numero de moles: \"))\n",
        "R=8.314\n",
        "F=96500\n",
        "Q1=float(input(\"Ingrese la concentacion del primer elemento: \"))\n",
        "Q2=float(input(\"Ingrese la concentacion del segundo elemento: \"))\n",
        "fem=float(input(\"Ingrese la fem estandar de la celda: \"))\n",
        "\n",
        "concentracion=math.log10(Q1/Q2)\n",
        "\n",
        "energia=fem-(((R*T)/(n*F))*concentracion)\n",
        "energia=round(energia,3)\n",
        "\n",
        "print(\"El efecto de la concentracion sobre la fem estandar es: \", energia,\"V\")"
      ]
    }
  ]
}