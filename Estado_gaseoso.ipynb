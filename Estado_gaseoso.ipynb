{
  "nbformat": 4,
  "nbformat_minor": 0,
  "metadata": {
    "colab": {
      "provenance": [],
      "toc_visible": true,
      "authorship_tag": "ABX9TyOss9UvPPkkJYP6e7+ckoPQ",
      "include_colab_link": true
    },
    "kernelspec": {
      "name": "python3",
      "display_name": "Python 3"
    },
    "language_info": {
      "name": "python"
    }
  },
  "cells": [
    {
      "cell_type": "markdown",
      "metadata": {
        "id": "view-in-github",
        "colab_type": "text"
      },
      "source": [
        "<a href=\"https://colab.research.google.com/github/luisgch2004/PC_01_QUIMICA/blob/main/Estado_gaseoso.ipynb\" target=\"_parent\"><img src=\"https://colab.research.google.com/assets/colab-badge.svg\" alt=\"Open In Colab\"/></a>"
      ]
    },
    {
      "cell_type": "markdown",
      "source": [
        "# 1. Estado Gaseoso"
      ],
      "metadata": {
        "id": "S4HNw9JScbLJ"
      }
    },
    {
      "cell_type": "markdown",
      "source": [
        "1.1. Calcula el volumen ocupado por 2 moles de gas a una presión de 3 atmósferas y una\n",
        "temperatura de 300 K."
      ],
      "metadata": {
        "id": "nsyfQgFaL2GT"
      }
    },
    {
      "cell_type": "code",
      "source": [
        "P = 3\n",
        "n = 2\n",
        "R = 0.08206\n",
        "T = 300\n",
        "V = (n*R*T)/P\n",
        "print(f\"el volumen ocupado sera de {V: .2f} litros\")"
      ],
      "metadata": {
        "colab": {
          "base_uri": "https://localhost:8080/"
        },
        "id": "CquGmLvvL-Na",
        "outputId": "d8fea78d-fc65-49dd-fbf2-632bb3aa4164"
      },
      "execution_count": 59,
      "outputs": [
        {
          "output_type": "stream",
          "name": "stdout",
          "text": [
            "el volumen ocupado sera de  16.41 litros\n"
          ]
        }
      ]
    },
    {
      "cell_type": "markdown",
      "source": [
        "1.2 En condiciones estándar, ¿cuántos moles de gas hay en 5 litros de oxígeno (O2)?"
      ],
      "metadata": {
        "id": "5DJGMGFcNRqS"
      }
    },
    {
      "cell_type": "code",
      "source": [
        "mol = 22.4\n",
        "o2 = 5/mol\n",
        "print(f\"en condiciones estandar habran {o2: .2f} moles en 5 litros\")"
      ],
      "metadata": {
        "colab": {
          "base_uri": "https://localhost:8080/"
        },
        "id": "vT97Q5xaNcnB",
        "outputId": "712d6507-4ee9-4f1b-ccc3-185f13315801"
      },
      "execution_count": 60,
      "outputs": [
        {
          "output_type": "stream",
          "name": "stdout",
          "text": [
            "en condiciones estandar habran  0.22 moles en 5 litros\n"
          ]
        }
      ]
    },
    {
      "cell_type": "markdown",
      "source": [
        "1. 3 Si 1 mol de un gas ideal ocupa 22.4 litros a 0°C y 1 atmósfera, ¿cuál es la constante R en\n",
        "unidades de litros x atmósferas / (mol x Kelvin)?"
      ],
      "metadata": {
        "id": "vFoj40wrPJ2C"
      }
    },
    {
      "cell_type": "code",
      "source": [
        "P = 1\n",
        "V = 22.4\n",
        "n = 1\n",
        "T = 0 + 273\n",
        "R = (P*V)/(n*T)\n",
        "print(f\"la constante R vale {R: .3f} litros x atmosferas/(mol x kelvin)\")"
      ],
      "metadata": {
        "colab": {
          "base_uri": "https://localhost:8080/"
        },
        "id": "5llDvj1NPMZa",
        "outputId": "754795d6-d7a8-4607-a5d9-7949d7c5874f"
      },
      "execution_count": 61,
      "outputs": [
        {
          "output_type": "stream",
          "name": "stdout",
          "text": [
            "la constante R vale  0.082 litros x atmosferas/(mol x kelvin)\n"
          ]
        }
      ]
    },
    {
      "cell_type": "markdown",
      "source": [
        "1.4. El nitrógeno líquido se encuentra a -196°C. ¿Cuál es esta temperatura en Kelvin?"
      ],
      "metadata": {
        "id": "45yK6O9EPuGy"
      }
    },
    {
      "cell_type": "code",
      "source": [
        "K = -196 + 273\n",
        "print(f\"la temperatura en kelvin de -196 °C es {K: .0f} K\")"
      ],
      "metadata": {
        "colab": {
          "base_uri": "https://localhost:8080/"
        },
        "id": "7Nbe3NOxPwO6",
        "outputId": "662e0c25-e220-4ddb-d53c-249301ec1f2a"
      },
      "execution_count": 62,
      "outputs": [
        {
          "output_type": "stream",
          "name": "stdout",
          "text": [
            "la temperatura en kelvin de -196 °C es  77 K\n"
          ]
        }
      ]
    },
    {
      "cell_type": "markdown",
      "source": [
        "#2. Características del estado gaseoso\n"
      ],
      "metadata": {
        "id": "soNsFmZvQId7"
      }
    },
    {
      "cell_type": "markdown",
      "source": [
        "¿Cuál es la principal característica que distingue a los gases de los líquidos y sólidos?\n",
        "\n",
        "Respuesta: la principal caracteristica que distingue a los gases es la compresibilidad, lo cual significa que pueden comprimir o expandir su volumen en respuesta a los cambios de presion que ocurran en el ambiente\n",
        "Cosa que no ocurre con los solidos o los liquidos, ya que estos tienen su volumen y forma definida, al contrario de los gases que pueden expandir su volumen y forma hasta llenar el espacio que ocupen"
      ],
      "metadata": {
        "id": "zH5INdTMQPWj"
      }
    },
    {
      "cell_type": "markdown",
      "source": [
        "Menciona tres propiedades físicas que cambian significativamente cuando un gas se\n",
        "condensa para formar un líquido.\n",
        "\n",
        "Respuesta:\n",
        "- Densidad: la densidad de un gas es mucho menor a la de un liquido, pues cuando ocurre la condensacion, la distancia entre las particulas se reduce provocando un aumento en la densidad\n",
        "- Volumen: Los gases tienen la capasidad de modificar su volumen segun el espacio en donde se encuentre, a diferencia de los liquido que tienen su volumen definido\n",
        "- fluidez: Los gases son fluidos que llenan libremente el espacio que ocupan. Los liquidos tambien poseen fluidez, ya que son fluidos al fin y al cabo, pero estos al poseer viscosidad, su fluidez cambia de libre a mas restringida."
      ],
      "metadata": {
        "id": "xbVY8OEFQu5T"
      }
    },
    {
      "cell_type": "markdown",
      "source": [
        "2.3. Si se duplica la temperatura de un gas ideal, ¿cómo afecta esto a su presión, suponiendo que\n",
        "el volumen y la cantidad de gas permanezcan constantes?\n",
        "\n",
        "Respuesta: la presión tambien se duplica, pues si el volumen y la cantidad de gas permanecen constantes, entonces la presion y la temperaturan se vuelven directamente proporcionales, por lo que si una aumenta la otra tambien lo hara."
      ],
      "metadata": {
        "id": "_3KsfDltbvhs"
      }
    },
    {
      "cell_type": "markdown",
      "source": [
        "# 3. Definición y problemas sobre presión"
      ],
      "metadata": {
        "id": "JArYw97pQybk"
      }
    },
    {
      "cell_type": "markdown",
      "source": [
        "3.1Calcula la presión ejercida por 0.5 moles de gas en un recipiente de 10 litros a 25°C."
      ],
      "metadata": {
        "id": "AUSdM2qKQ1-6"
      }
    },
    {
      "cell_type": "code",
      "source": [
        "V = 10\n",
        "n = 0.5\n",
        "R = 0.08206\n",
        "T= 25 + 273 #convertir de °C a K\n",
        "P = (n * R * T)/V\n",
        "print(f\"la presion ejercida sera de {P: .2f} atm\")"
      ],
      "metadata": {
        "colab": {
          "base_uri": "https://localhost:8080/"
        },
        "id": "EuCIBvVRQ5Oq",
        "outputId": "a0565cd5-f650-4b22-9c6b-162b9b192f85"
      },
      "execution_count": 63,
      "outputs": [
        {
          "output_type": "stream",
          "name": "stdout",
          "text": [
            "la presion ejercida sera de  1.22 atm\n"
          ]
        }
      ]
    },
    {
      "cell_type": "markdown",
      "source": [
        "Si tienes un gas a una presión de 1 atmósfera y lo comprimes a la mitad de su volumen, ¿cuál\n",
        "será la nueva presión? Supón que la temperatura y el número de moles es constante."
      ],
      "metadata": {
        "id": "E4narsb0RO9y"
      }
    },
    {
      "cell_type": "code",
      "source": [
        "print(\"como la temperatura y los moles son constantes, la formula a Usar es P1*V1 = P2*V2, vamos a suponer que el valor de V1 es 1 litro\")\n",
        "P1 = 1\n",
        "V1 = 1\n",
        "V2 = V1/2\n",
        "P2 = (P1*V1)/V2\n",
        "print(f\"el valor de P2 es {P2: .1f} atm lo que significa que la presion se duplica\")\n"
      ],
      "metadata": {
        "colab": {
          "base_uri": "https://localhost:8080/"
        },
        "id": "1p-WE6btRxe7",
        "outputId": "399c94a9-6235-47a0-ddba-19c5b3c48ca9"
      },
      "execution_count": 64,
      "outputs": [
        {
          "output_type": "stream",
          "name": "stdout",
          "text": [
            "como la temperatura y los moles son constantes, la formula a Usar es P1*V1 = P2*V2, vamos a suponer que el valor de V1 es 1 litro\n",
            "el valor de P2 es  2.0 atm lo que significa que la presion se duplica\n"
          ]
        }
      ]
    },
    {
      "cell_type": "markdown",
      "source": [
        "¿Cuál es la presión en torr de un gas que ejerce una presión de 2.5 atmósferas?"
      ],
      "metadata": {
        "id": "Oth6VS5ITHZS"
      }
    },
    {
      "cell_type": "code",
      "source": [
        "atm = 2.5\n",
        "torr = 760\n",
        "gas = atm * torr\n",
        "print(f\"la presion que ejerce 2.5 atm en torr es {gas: .2f} mmHg\")"
      ],
      "metadata": {
        "colab": {
          "base_uri": "https://localhost:8080/"
        },
        "id": "5IiOx6LiTJkC",
        "outputId": "58b2ebd3-0aab-4768-ee84-3e3e9c1e64a1"
      },
      "execution_count": 65,
      "outputs": [
        {
          "output_type": "stream",
          "name": "stdout",
          "text": [
            "la presion que ejerce 2.5 atm en torr es  1900.00 mmHg\n"
          ]
        }
      ]
    },
    {
      "cell_type": "markdown",
      "source": [
        "3.4. Si un gas ocupa 500 ml a una presión de 750 mmHg, ¿cuál es su volumen a 1 atmósfera?"
      ],
      "metadata": {
        "id": "rELqFv_STqAz"
      }
    },
    {
      "cell_type": "code",
      "source": [
        "atm = 760\n",
        "vol = 500\n",
        "mm = 750\n",
        "gas = (atm * vol)/mm\n",
        "print(f\"en 1 atmosfera el volumen del gas sera de {gas: .2f} ml\")"
      ],
      "metadata": {
        "colab": {
          "base_uri": "https://localhost:8080/"
        },
        "id": "xoFbQszfTsTb",
        "outputId": "a88bea60-f9fa-415d-8cd9-378a4a4a075c"
      },
      "execution_count": 66,
      "outputs": [
        {
          "output_type": "stream",
          "name": "stdout",
          "text": [
            "en 1 atmosfera el volumen del gas sera de  506.67 ml\n"
          ]
        }
      ]
    },
    {
      "cell_type": "markdown",
      "source": [
        "# 4. Principios de la Teoría Cinético Molecular de los gases"
      ],
      "metadata": {
        "id": "othaJQiJUaPq"
      }
    },
    {
      "cell_type": "markdown",
      "source": [
        "4.1. ¿Cuáles son los postulados clave de la teoría cinético-molecular de los gases?\n",
        "\n",
        "Respuesta: Un gas esta formada por particulas separadas entre si por diastancias mucho mas grandes que sus dimensiones.\n",
        "- Un gas puede posee masa pero tiene un volumen insignificante\n",
        "- Un gas contiene un gran numero de particulas energeticas que estan en constante movimiento\n",
        "- Las particuals de los gases siguen direcciones aleatorias y constantemente chocan entre si\n",
        "- Las colisiones entre las particulas son elasticas y no hay perdida de energia cinetica entre sus colisiones\n",
        "- La energia cinetica es proporcional a la temperatura absoluta del gas"
      ],
      "metadata": {
        "id": "qvLdkmzfUdhC"
      }
    },
    {
      "cell_type": "markdown",
      "source": [
        "4.3. ¿Por qué la temperatura se relaciona con la velocidad promedio de las partículas en un gas\n",
        "ideal?\n",
        "\n",
        "Respuesta: La temperatura de un gas esta relacionada con la energia cinetica de sus particual de forma directa, ya que cuando un gas se calienta, las particulas que lo componen se mueven mas rapido, aumentando su velocidad promedio, y todo lo contrario ocurre a temperaturas bajas, reduciendo su velocidad promedio.\n",
        "La temperatura de los gases se miden en Kelvin y la ecuacion que describe la energia cinetica de los gases, muestra la relacion entre estos dos, esta es:\n",
        "\n",
        "E(prom) = (mu^2)*1/2 = (K*T)3/2\n",
        "donde:\n",
        "E = Energia cinetica promedio\n",
        "m = masa\n",
        "u = velocidad\n",
        "K = Constante de boltzman\n",
        "T = Temperatura absoluta en kelvin"
      ],
      "metadata": {
        "id": "C6HssXw-Un_q"
      }
    },
    {
      "cell_type": "markdown",
      "source": [
        "# 5. Ley General de los Gases Ideales"
      ],
      "metadata": {
        "id": "cSy2mr60Uq2M"
      }
    },
    {
      "cell_type": "markdown",
      "source": [
        "Utiliza la ecuación de los gases ideales para calcular la presión de 2 moles de gas en un\n",
        "recipiente de 5 litros a 25°C."
      ],
      "metadata": {
        "id": "9PqeT1_bUuiS"
      }
    },
    {
      "cell_type": "code",
      "source": [
        "V = 5\n",
        "n = 2\n",
        "R = 0.08206\n",
        "T = 25 + 273\n",
        "P = (n*T*R)/V\n",
        "print(f\"la presion sera de {P: .2f} atm\")"
      ],
      "metadata": {
        "colab": {
          "base_uri": "https://localhost:8080/"
        },
        "id": "1gGAzc5RUtZb",
        "outputId": "ca566022-d623-43e8-c958-176541c21189"
      },
      "execution_count": 67,
      "outputs": [
        {
          "output_type": "stream",
          "name": "stdout",
          "text": [
            "la presion sera de  9.78 atm\n"
          ]
        }
      ]
    },
    {
      "cell_type": "markdown",
      "source": [
        "Si tienes un gas que ocupa 10 litros a 3 atmósferas de presión y 273 K de temperatura,\n",
        "¿cuántos moles de gas tienes?"
      ],
      "metadata": {
        "id": "YD6eVro9VGjr"
      }
    },
    {
      "cell_type": "code",
      "source": [
        "P = 3\n",
        "V = 10\n",
        "T = 273\n",
        "R = 0.08206\n",
        "n = (P * V)/ (T * R)\n",
        "print(f\"el numero de moles sera de {n: .2f} moles\")"
      ],
      "metadata": {
        "colab": {
          "base_uri": "https://localhost:8080/"
        },
        "id": "GSYyyIuoVJHr",
        "outputId": "30f6828b-d756-4e2e-e8df-714b8725106f"
      },
      "execution_count": 68,
      "outputs": [
        {
          "output_type": "stream",
          "name": "stdout",
          "text": [
            "el numero de moles sera de  1.34 moles\n"
          ]
        }
      ]
    },
    {
      "cell_type": "markdown",
      "source": [
        "¿Cuál es el volumen molar de un gas ideal a 1 atmósfera de presión y 0°C?"
      ],
      "metadata": {
        "id": "WqiNFWbhCZTg"
      }
    },
    {
      "cell_type": "code",
      "source": [
        "P = 1 #atm\n",
        "n = 1 #mol\n",
        "R = 0.08206\n",
        "T = 0 + 273\n",
        "V = (n * T * R)/P\n",
        "print(f\"el volumen molar sera de {V: .3f} litros\")\n"
      ],
      "metadata": {
        "colab": {
          "base_uri": "https://localhost:8080/"
        },
        "id": "0LoNDX8xCcYa",
        "outputId": "0447b847-fec2-4477-8c06-4b4a866ad77f"
      },
      "execution_count": 69,
      "outputs": [
        {
          "output_type": "stream",
          "name": "stdout",
          "text": [
            "el volumen molar sera de  22.402 litros\n"
          ]
        }
      ]
    },
    {
      "cell_type": "markdown",
      "source": [
        "Un gas ocupa un volumen de 2 litros a 4 atmósferas y 400 K. ¿Cuántos moles de gas hay?"
      ],
      "metadata": {
        "id": "6bKNOMKeEpAC"
      }
    },
    {
      "cell_type": "code",
      "source": [
        "P = 4 #atm\n",
        "V = 2 #litros\n",
        "T = 400 #Kelvin\n",
        "R = 0.08206\n",
        "n = (T * R)/(P * V)\n",
        "print(f\"el numero de moles de gas es de {n: .2f} moles\")"
      ],
      "metadata": {
        "colab": {
          "base_uri": "https://localhost:8080/"
        },
        "id": "1wU-ePbpEqKj",
        "outputId": "a7b58cea-72e3-40bd-e612-83ea9ad415f2"
      },
      "execution_count": 70,
      "outputs": [
        {
          "output_type": "stream",
          "name": "stdout",
          "text": [
            "el numero de moles de gas es de  4.10 moles\n"
          ]
        }
      ]
    },
    {
      "cell_type": "markdown",
      "source": [
        "# 6. Ley de Gay-Lussac:"
      ],
      "metadata": {
        "id": "DvqllaBLVd6N"
      }
    },
    {
      "cell_type": "markdown",
      "source": [
        "6.1. Un recipiente de 2 litros contiene 1 mol de gas a 300 K. Si la presión se duplica manteniendo\n",
        "el volumen constante, ¿cuál será la nueva temperatura?"
      ],
      "metadata": {
        "id": "QBY_ZX-LNWDk"
      }
    },
    {
      "cell_type": "code",
      "source": [
        "print(\"con el volumen constante, se tiene\")\n",
        "V1 = 2\n",
        "n = 1\n",
        "T1 = 300\n",
        "R = 0.08206\n",
        "P1 = (R* T1* n)/V1\n",
        "P2 = 2 * P1\n",
        "V2 = V1\n",
        "T2 = (P2 * V2)/(n * R)\n",
        "print(f\"la nueva temperatura sera de {T2: .2f} kelvin\")"
      ],
      "metadata": {
        "colab": {
          "base_uri": "https://localhost:8080/"
        },
        "id": "Ae5998daNQw8",
        "outputId": "6588d397-0429-43ee-ab36-40493e63b33b"
      },
      "execution_count": 71,
      "outputs": [
        {
          "output_type": "stream",
          "name": "stdout",
          "text": [
            "con el volumen constante, se tiene\n",
            "la nueva temperatura sera de  600.00 kelvin\n"
          ]
        }
      ]
    },
    {
      "cell_type": "markdown",
      "source": [
        "6.2. Un globo se llena con 3 moles de gas a 25 °C. Si la temperatura se incrementa a 75 °C, ¿cuál\n",
        "será el nuevo volumen del globo?"
      ],
      "metadata": {
        "id": "uGZ2X6ksNcyw"
      }
    },
    {
      "cell_type": "code",
      "source": [
        "V1 = 3 * 22.4\n",
        "T1 = 25 + 273\n",
        "T2 = 75 + 273\n",
        "V2 = (V1/T1)*T2\n",
        "print(f\"el nuevo volumen sera de {V2: .2f} litros\")"
      ],
      "metadata": {
        "colab": {
          "base_uri": "https://localhost:8080/"
        },
        "id": "1IXq3wyTRjf9",
        "outputId": "b4bc0ef8-8c35-428a-eb50-90ca3838e5db"
      },
      "execution_count": 72,
      "outputs": [
        {
          "output_type": "stream",
          "name": "stdout",
          "text": [
            "el nuevo volumen sera de  78.48 litros\n"
          ]
        }
      ]
    },
    {
      "cell_type": "markdown",
      "source": [
        "6.3. Si un recipiente de 4 litros contiene 3 moles de un gas a 400 K, ¿cuál será la presión si el\n",
        "volumen se reduce a 2 litros a temperatura constante?"
      ],
      "metadata": {
        "id": "Hoi-MRpXSc5J"
      }
    },
    {
      "cell_type": "code",
      "source": [
        "V1 = 4\n",
        "n = 3\n",
        "R = 0.08206\n",
        "T1 = 400\n",
        "P1 = (n*R*T1)/V1\n",
        "V2 = V1/2\n",
        "T2 = T1\n",
        "P2 = (n*R*T2)/V2\n",
        "print(f\"presion 1 : {P1: .2f}\")\n",
        "print(f\"la nueva presion sera {P2: .2f} atm\")"
      ],
      "metadata": {
        "colab": {
          "base_uri": "https://localhost:8080/"
        },
        "id": "3u3m70GKSfgr",
        "outputId": "5247b80d-adea-4be0-fab3-44d4ed1a37a1"
      },
      "execution_count": 73,
      "outputs": [
        {
          "output_type": "stream",
          "name": "stdout",
          "text": [
            "presion 1 :  24.62\n",
            "la nueva presion sera  49.24 atm\n"
          ]
        }
      ]
    },
    {
      "cell_type": "markdown",
      "source": [
        "6.4. Un recipiente de gas contiene 0.5 moles de gas a una temperatura de 27 °C. Si la presión se\n",
        "triplica manteniendo constante el volumen, ¿cuál será la nueva temperatura?"
      ],
      "metadata": {
        "id": "R2y3ueQ2UQDN"
      }
    },
    {
      "cell_type": "code",
      "source": [
        "V1 = 0.5 * 22.4\n",
        "T1 = 27 + 273\n",
        "n = 0.5\n",
        "R = 0.08206\n",
        "P1 = (n*R*T1)/V1\n",
        "P2 = 3 * P1\n",
        "V2 = V1\n",
        "T2 = (P2 * V2)/(n*R)\n",
        "print(f\"la presion 1 es:{P1: .2f}\")\n",
        "print(f\"la nueva temperatura sera de {T2: .2f} Kelvin\")"
      ],
      "metadata": {
        "colab": {
          "base_uri": "https://localhost:8080/"
        },
        "id": "oocOyTTTUQ08",
        "outputId": "6f0d046b-8ceb-4508-f577-a4685c196241"
      },
      "execution_count": 74,
      "outputs": [
        {
          "output_type": "stream",
          "name": "stdout",
          "text": [
            "la presion 1 es: 1.10\n",
            "la nueva temperatura sera de  900.00 Kelvin\n"
          ]
        }
      ]
    },
    {
      "cell_type": "markdown",
      "source": [
        "Si un gas ocupa un volumen de 1 litro a una temperatura de 300 K y se comprime hasta\n",
        "ocupar 0.5 litros, ¿cuál será la nueva temperatura si la presión se mantiene constante?"
      ],
      "metadata": {
        "id": "AMyYp1toVgHS"
      }
    },
    {
      "cell_type": "code",
      "source": [
        "V1 = 1\n",
        "T1 = 300\n",
        "V2 = 0.5\n",
        "T2 = (V2*T1)/V1\n",
        "print(f\"la nueva temperatura es de {T2: .1f} Kelvin\")"
      ],
      "metadata": {
        "colab": {
          "base_uri": "https://localhost:8080/"
        },
        "id": "DJifWUSnVg9j",
        "outputId": "06d78e83-3eb3-42ac-c725-fd453be564c8"
      },
      "execution_count": 48,
      "outputs": [
        {
          "output_type": "stream",
          "name": "stdout",
          "text": [
            "la nueva temperatura es de  150.0 Kelvin\n"
          ]
        }
      ]
    },
    {
      "cell_type": "markdown",
      "source": [
        "# 7. Ley de Charles:"
      ],
      "metadata": {
        "id": "yTdmRfVgY-yd"
      }
    },
    {
      "cell_type": "markdown",
      "source": [
        "7.1. Un globo se llena con 2 moles de gas a 25 °C. Si el volumen inicial es de 5 litros, ¿cuál será el\n",
        "volumen a 50 °C, manteniendo constante la presión?"
      ],
      "metadata": {
        "id": "1qIXeDSpZCWb"
      }
    },
    {
      "cell_type": "code",
      "source": [
        "print(\"si la presion es constante entonces\")\n",
        "V1 = 2 * 22.4\n",
        "T1 = 25 + 273\n",
        "T2 = 50 + 273\n",
        "V2 = (V1 * T2)/T1\n",
        "print(f\"el volumen sera de {V2: .2f} litros\")"
      ],
      "metadata": {
        "colab": {
          "base_uri": "https://localhost:8080/"
        },
        "id": "vJldOCkCZH2r",
        "outputId": "db19b6e2-8c95-401a-e0a5-7ad0665d0966"
      },
      "execution_count": 75,
      "outputs": [
        {
          "output_type": "stream",
          "name": "stdout",
          "text": [
            "si la presion es constante entonces\n",
            "el volumen sera de  48.56 litros\n"
          ]
        }
      ]
    },
    {
      "cell_type": "markdown",
      "source": [
        "7.2. Si un gas ocupa un volumen de 2 litros a 0 °C, ¿cuál será el volumen a 100 °C si la presión se\n",
        "mantiene constante?"
      ],
      "metadata": {
        "id": "TxkQ1Fxfa1y8"
      }
    },
    {
      "cell_type": "code",
      "source": [
        "print(\"si la presion es constante\")\n",
        "V1 = 2\n",
        "T1 = 0 + 273\n",
        "T2 = 100 + 273\n",
        "V2 = (T2 * V1)/T1\n",
        "print(f\"el nuevo volumen sera de {V2: .2f} litros\")"
      ],
      "metadata": {
        "colab": {
          "base_uri": "https://localhost:8080/"
        },
        "id": "keaM7ErDa31c",
        "outputId": "490bbd5e-98b2-4224-ab42-06d3e25dfef7"
      },
      "execution_count": 76,
      "outputs": [
        {
          "output_type": "stream",
          "name": "stdout",
          "text": [
            "si la presion es constante\n",
            "el nuevo volumen sera de  2.73 litros\n"
          ]
        }
      ]
    },
    {
      "cell_type": "markdown",
      "source": [
        "7.3. Si un gas se expande desde 4 litros a 27 °C hasta 8 litros, ¿cuál es la nueva temperatura si la\n",
        "presión permanece constante?"
      ],
      "metadata": {
        "id": "aKvUrCfhWrOO"
      }
    },
    {
      "cell_type": "code",
      "source": [
        "V1 = 4\n",
        "T1 = 27 + 273\n",
        "V2 = 8\n",
        "T2 = (V2 * T1)/V1\n",
        "print(f\"la nueva temperatura es de {T2: .2f} Kelvin\")"
      ],
      "metadata": {
        "colab": {
          "base_uri": "https://localhost:8080/"
        },
        "id": "04fXgnz8Ws_n",
        "outputId": "aac71ea4-3f7a-4cc9-a4fd-2609684bff1b"
      },
      "execution_count": 77,
      "outputs": [
        {
          "output_type": "stream",
          "name": "stdout",
          "text": [
            "la nueva temperatura es de  600.00 Kelvin\n"
          ]
        }
      ]
    },
    {
      "cell_type": "markdown",
      "source": [
        "7.4. Un gas ocupa un volumen de 3 litros a 300 K. ¿Cuál sería su volumen a -100 °C si la presión\n",
        "se mantiene constante?"
      ],
      "metadata": {
        "id": "G1tvxWqWXG8A"
      }
    },
    {
      "cell_type": "code",
      "source": [
        "print(\"si la presion es constante\")\n",
        "V1 = 3\n",
        "T1 = 300\n",
        "T2 = -100 + 273\n",
        "V2 = (T2 * V1)/T1\n",
        "print(f\"el nuevo volumen sera de {V2: .2f} litros\")"
      ],
      "metadata": {
        "colab": {
          "base_uri": "https://localhost:8080/"
        },
        "id": "oIYqI555XI5h",
        "outputId": "6a642c97-335f-4c31-e3c4-2d884bc51735"
      },
      "execution_count": 78,
      "outputs": [
        {
          "output_type": "stream",
          "name": "stdout",
          "text": [
            "si la presion es constante\n",
            "el nuevo volumen sera de  1.73 litros\n"
          ]
        }
      ]
    },
    {
      "cell_type": "markdown",
      "source": [
        "7.5. Si un gas ocupa 10 litros a 20 °C y luego se enfría a -10 °C, ¿cuál será el nuevo volumen si la\n",
        "presión permanece constante?"
      ],
      "metadata": {
        "id": "4ovg2wPWXcg_"
      }
    },
    {
      "cell_type": "code",
      "source": [
        "print(\"si la presion es constante\")\n",
        "V1 = 10\n",
        "T1 = 20 + 273\n",
        "T2 = -10 + 273\n",
        "V2 = (T2 * V1)/T1\n",
        "print(f\"el nuevo volumen sera de {V2: .2f} litros\")"
      ],
      "metadata": {
        "colab": {
          "base_uri": "https://localhost:8080/"
        },
        "id": "LWlRZYtsXcD7",
        "outputId": "90d12531-5efb-4f8c-813f-a84151a3ffb1"
      },
      "execution_count": 79,
      "outputs": [
        {
          "output_type": "stream",
          "name": "stdout",
          "text": [
            "si la presion es constante\n",
            "el nuevo volumen sera de  8.98 litros\n"
          ]
        }
      ]
    },
    {
      "cell_type": "markdown",
      "source": [
        "# 8. Ley de Boyle-Mariotte"
      ],
      "metadata": {
        "id": "VBE7B_LmbP89"
      }
    },
    {
      "cell_type": "markdown",
      "source": [
        "8.1. Un gas ocupa 2 litros a una presión de 3 atmósferas. Si se comprime a 1 litro, ¿cuál será la\n",
        "nueva presión a temperatura constante?"
      ],
      "metadata": {
        "id": "CCMYP-1HbUw9"
      }
    },
    {
      "cell_type": "code",
      "source": [
        "print(\"si la temperatura es constante\")\n",
        "P1 = 3 #atm\n",
        "V1 = 2 #litros\n",
        "V2 = 1 #litros\n",
        "P2 = (P1*V1)/V2\n",
        "print(f\"la nueva presion sera de {P2: .2f} atm\")"
      ],
      "metadata": {
        "colab": {
          "base_uri": "https://localhost:8080/"
        },
        "id": "1AW19kf2bWib",
        "outputId": "e87e9151-b4ea-4c91-ab3a-b1f27b81fa91"
      },
      "execution_count": 80,
      "outputs": [
        {
          "output_type": "stream",
          "name": "stdout",
          "text": [
            "si la temperatura es constante\n",
            "la nueva presion sera de  6.00 atm\n"
          ]
        }
      ]
    },
    {
      "cell_type": "markdown",
      "source": [
        "8.2. Si un gas a 2 atmósferas de presión ocupa un volumen de 10 litros, ¿cuál sería el nuevo\n",
        "volumen si la presión se duplica?"
      ],
      "metadata": {
        "id": "zFFZZaQVbzpj"
      }
    },
    {
      "cell_type": "code",
      "source": [
        "print(\"si la temperatura es constante\")\n",
        "P1 = 2 #atm\n",
        "V1 = 10 #litros\n",
        "P2 = P1*2\n",
        "V2 = (P1*V1)/P2\n",
        "print(f\"el nuevo volumen si la presion se duplica es {V2: .2f} litros\")"
      ],
      "metadata": {
        "colab": {
          "base_uri": "https://localhost:8080/"
        },
        "id": "lTeVeLiub1kk",
        "outputId": "4cf2fc45-fdac-4f59-956f-26e02e5f1b48"
      },
      "execution_count": 81,
      "outputs": [
        {
          "output_type": "stream",
          "name": "stdout",
          "text": [
            "si la temperatura es constante\n",
            "el nuevo volumen si la presion se duplica es  5.00 litros\n"
          ]
        }
      ]
    },
    {
      "cell_type": "markdown",
      "source": [
        "8.3. Un gas ocupa 5 litros a 4 atmósferas de presión. Si se expande a 15 litros, ¿cuál será la nueva\n",
        "presión a temperatura constante?"
      ],
      "metadata": {
        "id": "hH7U4gqEXxa_"
      }
    },
    {
      "cell_type": "code",
      "source": [
        "print(\"si la temperatura es constante\")\n",
        "P1 = 4 #atm\n",
        "V1 = 5 #litros\n",
        "V2 = 15 #litros\n",
        "P2 = (P1*V1)/V2\n",
        "print(f\"la nueva presion sera de {P2: .2f} atm\")"
      ],
      "metadata": {
        "colab": {
          "base_uri": "https://localhost:8080/"
        },
        "id": "3FkmPtL1XzVB",
        "outputId": "5cb1f7a1-113d-44a8-aeb9-d1a29ad1b4bb"
      },
      "execution_count": 83,
      "outputs": [
        {
          "output_type": "stream",
          "name": "stdout",
          "text": [
            "si la temperatura es constante\n",
            "la nueva presion sera de  1.33 atm\n"
          ]
        }
      ]
    },
    {
      "cell_type": "markdown",
      "source": [
        "8.4. Un gas a 2 atmósferas de presión ocupa un volumen de 12 litros. ¿Cuál sería el nuevo\n",
        "volumen si la presión se reduce a 1 atmósfera?"
      ],
      "metadata": {
        "id": "gqS1LlpZYOiD"
      }
    },
    {
      "cell_type": "code",
      "source": [
        "print(\"si la temperatura es constante\")\n",
        "P1 = 2 #atm\n",
        "V1 = 12 #litros\n",
        "P2 = 1 #atm\n",
        "V2 = (P1*V1)/P2\n",
        "print(f\"el nuevo volumen si la presion se reduce es {V2: .2f} litros\")"
      ],
      "metadata": {
        "colab": {
          "base_uri": "https://localhost:8080/"
        },
        "id": "KtTUjiwUYQiO",
        "outputId": "3d313a26-218c-4b26-833c-3e5b85084ba2"
      },
      "execution_count": 84,
      "outputs": [
        {
          "output_type": "stream",
          "name": "stdout",
          "text": [
            "si la temperatura es constante\n",
            "el nuevo volumen si la presion se reduce es  24.00 litros\n"
          ]
        }
      ]
    },
    {
      "cell_type": "markdown",
      "source": [
        "8.5. Si un gas ocupa 8 litros a 1 atmósfera de presión, ¿cuál sería el volumen si la presión se\n",
        "triplica a temperatura constante?"
      ],
      "metadata": {
        "id": "5lFXLnW1Yfx6"
      }
    },
    {
      "cell_type": "code",
      "source": [
        "print(\"si la temperatura es constante\")\n",
        "P1 = 1 #atm\n",
        "V1 = 8 #litros\n",
        "P2 = 3*P1\n",
        "V2 = (P1*V1)/P2\n",
        "print(f\"el nuevo volumen si la presion se triplica es {V2: .2f} litros\")"
      ],
      "metadata": {
        "colab": {
          "base_uri": "https://localhost:8080/"
        },
        "id": "wi-NcpqXYgoE",
        "outputId": "78f3ac01-d602-497c-b938-f406a0102123"
      },
      "execution_count": 85,
      "outputs": [
        {
          "output_type": "stream",
          "name": "stdout",
          "text": [
            "si la temperatura es constante\n",
            "el nuevo volumen si la presion se triplica es  2.67 litros\n"
          ]
        }
      ]
    },
    {
      "cell_type": "markdown",
      "source": [
        "#9. Ley de las presiones parciales de Dalton:"
      ],
      "metadata": {
        "id": "ioVeD7CccUjd"
      }
    },
    {
      "cell_type": "markdown",
      "source": [
        "9.1. Un recipiente contiene oxígeno (O2) y nitrógeno (N2) a una presión total de 3 atmósferas. Si\n",
        "la presión parcial de O2 es de 1 atmósfera, ¿cuál es la presión parcial de N2?"
      ],
      "metadata": {
        "id": "Bhg8muINcWQb"
      }
    },
    {
      "cell_type": "code",
      "source": [
        "print(\"segun la ley de las presiones parciales\")\n",
        "Po2 = 1 #atm\n",
        "Pt = 3 #atm\n",
        "Pn2 = Pt - Po2\n",
        "print(\"la presion parcial del N2 es de\", Pn2, \"atm\")\n"
      ],
      "metadata": {
        "colab": {
          "base_uri": "https://localhost:8080/"
        },
        "id": "G-meWkXnca40",
        "outputId": "ca0893ec-c76e-48cd-9b76-55aab15120b4"
      },
      "execution_count": 86,
      "outputs": [
        {
          "output_type": "stream",
          "name": "stdout",
          "text": [
            "segun la ley de las presiones parciales\n",
            "la presion parcial del N2 es de 2 atm\n"
          ]
        }
      ]
    },
    {
      "cell_type": "markdown",
      "source": [
        "9.2. En un recipiente, la presión parcial de hidrógeno (H2) es de 0.2 atmósferas, la del oxígeno\n",
        "(O2) es de 0.5 atmósferas y la del nitrógeno (N2) es de 0.3 atmósferas. ¿Cuál es la presión total\n",
        "en el recipiente?"
      ],
      "metadata": {
        "id": "cS_4hH9uekxN"
      }
    },
    {
      "cell_type": "code",
      "source": [
        "print(\"segun la ley de las presiones parciales\")\n",
        "PH2 = 0.2 #atm\n",
        "PO2 = 0.5 #atm\n",
        "PT = PH2 + PO2\n",
        "print(\"la presion total del recipíente es de\", PT, \"atm\")"
      ],
      "metadata": {
        "colab": {
          "base_uri": "https://localhost:8080/"
        },
        "id": "snBJgl-VepEV",
        "outputId": "6988b34f-730f-452f-8e7f-f5018d03aec2"
      },
      "execution_count": 87,
      "outputs": [
        {
          "output_type": "stream",
          "name": "stdout",
          "text": [
            "segun la ley de las presiones parciales\n",
            "la presion total del recipíente es de 0.7 atm\n"
          ]
        }
      ]
    },
    {
      "cell_type": "markdown",
      "source": [
        "9.3. Un tanque contiene helio (He) y argón (Ar) a una presión total de 5 atmósferas. Si la presión\n",
        "parcial de He es de 3 atmósferas, ¿cuál es la presión parcial de Ar?"
      ],
      "metadata": {
        "id": "fNc3oTdDME7t"
      }
    },
    {
      "cell_type": "code",
      "source": [
        "print(\"segun la ley de las presiones parciales\")\n",
        "PHe = 3 #atm\n",
        "PT = 5 #atm\n",
        "PAr = PT - PHe\n",
        "print(\"la presion parcial del Ar sera de\", PAr, \"atm\")"
      ],
      "metadata": {
        "colab": {
          "base_uri": "https://localhost:8080/"
        },
        "id": "HnmxSclEMF7X",
        "outputId": "1030f41b-2017-4caf-a29f-8fbb9e24c335"
      },
      "execution_count": 88,
      "outputs": [
        {
          "output_type": "stream",
          "name": "stdout",
          "text": [
            "segun la ley de las presiones parciales\n",
            "la presion parcial del Ar sera de 2 atm\n"
          ]
        }
      ]
    },
    {
      "cell_type": "markdown",
      "source": [
        "En un recipiente, la presión parcial de dióxido de carbono (CO2) es de 2 atmósferas, la del\n",
        "oxígeno (O2) es de 1 atmósfera y la del nitrógeno (N2) es de 3 atmósferas. ¿Cuál es la presión\n",
        "total en el recipiente?"
      ],
      "metadata": {
        "id": "QSdfWTzIMeFV"
      }
    },
    {
      "cell_type": "code",
      "source": [
        "print(\"segun la ley de las presiones parciales\")\n",
        "PCO2 = 2 #atm\n",
        "PO2 = 1 #atm\n",
        "PN2 = 3 #atm\n",
        "PT = PCO2 + PO2 + PN2\n",
        "print(\"la presion total del recipíente es de\", PT, \"atm\")"
      ],
      "metadata": {
        "colab": {
          "base_uri": "https://localhost:8080/"
        },
        "id": "PGUVvhULMe7O",
        "outputId": "e71ef75a-abe1-4c0f-d7d2-f8b13b911746"
      },
      "execution_count": 89,
      "outputs": [
        {
          "output_type": "stream",
          "name": "stdout",
          "text": [
            "segun la ley de las presiones parciales\n",
            "la presion total del recipíente es de 6 atm\n"
          ]
        }
      ]
    },
    {
      "cell_type": "markdown",
      "source": [
        "9.5. Un tanque contiene vapor de agua (H2O) y oxígeno (O2) a una presión total de 4 atmósferas.\n",
        "Si la presión parcial de H2O es de 1 atmósfera, ¿cuál es la presión parcial de O2?"
      ],
      "metadata": {
        "id": "Y48FqRgAMtpe"
      }
    },
    {
      "cell_type": "code",
      "source": [
        "print(\"segun la ley de las presiones parciales\")\n",
        "PH2O = 1 #atm\n",
        "PT = 4 #atm\n",
        "PO2 = PT - PH2O\n",
        "print(\"la presion parcial del O2 sera de\", PO2, \"atm\")"
      ],
      "metadata": {
        "colab": {
          "base_uri": "https://localhost:8080/"
        },
        "id": "K0LUIqdPMtVe",
        "outputId": "583899f6-60b7-4582-8ae7-bd0a1d534877"
      },
      "execution_count": 90,
      "outputs": [
        {
          "output_type": "stream",
          "name": "stdout",
          "text": [
            "segun la ley de las presiones parciales\n",
            "la presion parcial del O2 sera de 3 atm\n"
          ]
        }
      ]
    },
    {
      "cell_type": "markdown",
      "source": [
        "# 10. Gases Reales:\n",
        "\n"
      ],
      "metadata": {
        "id": "-OhBFgxbHKpA"
      }
    },
    {
      "cell_type": "markdown",
      "source": [
        "10.1. Si 2 moles de un gas real ocupan 3 litros a 300 K y 2 atmósferas de presión, ¿cuál es el factor\n",
        "de compresibilidad (Z) del gas?"
      ],
      "metadata": {
        "id": "7GIV_Y0LHTS0"
      }
    },
    {
      "cell_type": "code",
      "source": [
        "P = 2 #atm\n",
        "V = 3 #litros\n",
        "T = 300 #Kelvin\n",
        "n = 2 #moles\n",
        "R = 0.08206\n",
        "Z = (P * V)/(T * n * R)\n",
        "print(f\"el factor de comprensibilidad sera de {Z: .2f}\")"
      ],
      "metadata": {
        "colab": {
          "base_uri": "https://localhost:8080/"
        },
        "id": "MVRsurtPHVP2",
        "outputId": "7783ea7a-1101-44f0-c478-afabc1772923"
      },
      "execution_count": 91,
      "outputs": [
        {
          "output_type": "stream",
          "name": "stdout",
          "text": [
            "el factor de comprensibilidad sera de  0.12\n"
          ]
        }
      ]
    },
    {
      "cell_type": "markdown",
      "source": [
        "10.2. Un gas real se encuentra en un recipiente de 5 litros a 350 K y 4 atmósferas de presión.\n",
        "Calcular el factor de compresibilidad (Z) del gas en estas condiciones."
      ],
      "metadata": {
        "id": "_Yo0w7z1H5hg"
      }
    },
    {
      "cell_type": "code",
      "source": [
        "P = 4 #atm\n",
        "V = 5 #litros\n",
        "T = 350 #Kelvin\n",
        "n = 5/22.4 #moles\n",
        "Z = (P * V)/(T * n)\n",
        "print(f\"el factor de comprensibilidad sera de {Z: .2f}\")"
      ],
      "metadata": {
        "colab": {
          "base_uri": "https://localhost:8080/"
        },
        "id": "Sri9pW9kH88H",
        "outputId": "d553cf52-602c-4ac7-ecc5-92a55b8e4a81"
      },
      "execution_count": 92,
      "outputs": [
        {
          "output_type": "stream",
          "name": "stdout",
          "text": [
            "el factor de comprensibilidad sera de  0.26\n"
          ]
        }
      ]
    },
    {
      "cell_type": "markdown",
      "source": [
        "10.3. Si 3 moles de un gas real a 400 K y 5 atmósferas ocupan un volumen de 10 litros, ¿cuál es\n",
        "el factor de compresibilidad (Z) en este caso?"
      ],
      "metadata": {
        "id": "x9SJvgBiLFxO"
      }
    },
    {
      "cell_type": "code",
      "source": [
        "P = 5 #atm\n",
        "V = 10 #litros\n",
        "T = 400 #Kelvin\n",
        "n = 3 #moles\n",
        "Z = (P * V)/(T * n)\n",
        "print(f\"el factor de comprensibilidad sera de {Z: .2f}\")"
      ],
      "metadata": {
        "colab": {
          "base_uri": "https://localhost:8080/"
        },
        "id": "l7MQRbgvLFWW",
        "outputId": "37e6d2f9-6d69-407c-e535-497959631b78"
      },
      "execution_count": 93,
      "outputs": [
        {
          "output_type": "stream",
          "name": "stdout",
          "text": [
            "el factor de comprensibilidad sera de  0.04\n"
          ]
        }
      ]
    },
    {
      "cell_type": "code",
      "source": [],
      "metadata": {
        "id": "sjSfX0n-La_3"
      },
      "execution_count": null,
      "outputs": []
    }
  ]
}