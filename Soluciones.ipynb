{
  "nbformat": 4,
  "nbformat_minor": 0,
  "metadata": {
    "colab": {
      "provenance": [],
      "authorship_tag": "ABX9TyPusWlqRgt6Y6uPWXmEiJBx",
      "include_colab_link": true
    },
    "kernelspec": {
      "name": "python3",
      "display_name": "Python 3"
    },
    "language_info": {
      "name": "python"
    }
  },
  "cells": [
    {
      "cell_type": "markdown",
      "metadata": {
        "id": "view-in-github",
        "colab_type": "text"
      },
      "source": [
        "<a href=\"https://colab.research.google.com/github/luisgch2004/PC_01_QUIMICA/blob/main/Soluciones.ipynb\" target=\"_parent\"><img src=\"https://colab.research.google.com/assets/colab-badge.svg\" alt=\"Open In Colab\"/></a>"
      ]
    },
    {
      "cell_type": "markdown",
      "source": [
        "#Fuerzas intermoleculares"
      ],
      "metadata": {
        "id": "IoIBzTmaLYai"
      }
    },
    {
      "cell_type": "markdown",
      "source": [
        "11.2 Explique el termino \"polarizabilidad\". ¿Que clase de moleculas tienen a ser muy poralizables?¿Que relacion existe entre la polarizabilidad y las fuerzas intermoleculares?\n",
        "\n",
        "Polarizabilidad es una magnitud tensorial que representa la capacidad de una molécula de distorsionar su densidad electrónica, que se define como la cantidad de electrones por unidad de volumen, en presencia de un campo eléctrico aplicado."
      ],
      "metadata": {
        "id": "R_3l6O5rWxdt"
      }
    },
    {
      "cell_type": "markdown",
      "source": [
        "11.3 Explique la diferencia entre un momento dipolar temporal y un momento dipolar permanente\n",
        "\n",
        "•\tMomento dipolar temporal. En un instante cualquiera los átomos pueden tener un momento dipolo generado por las posiciones específicas de los electrones. En este momento dipolo se denomina dipolo instantáneo porque dura solo una pequeña fracción de segundo. En otro instante los electrones cambian si posición y el átomo tiene un nuevo dipolo instantáneo, y así sucesivamente. Un ejemplo es el gas de hidrogeno H2\n",
        "\n",
        "•\tMomento dipolar permanente: Se presentan entre dipolos permanentes ocurren entre moléculas que tienen un momento dipolar intrínseco, con un extremo cargado positivamente y el otro negativamente, como el agua: H2O\n"
      ],
      "metadata": {
        "id": "qsiXoliHEbwp"
      }
    },
    {
      "cell_type": "markdown",
      "source": [
        "11.4 Mencione alguna evidencia de que todos los atomos y moleculas ejercen entre si fuerzas de atraccion\n",
        "\n",
        "Las primeras evidencias de la existencia de las fuerzas de atracción entre moléculas vinieron del estudio de los puntos de ebullición.\n",
        "Normalmente, los puntos de ebullición de compuestos que contienen a elementos del mismo grupo aumentan con el peso molecular. Pero los compuestos de los elementos de los Grupos 15, 16 y 17 (los 3 grupos previos a los gases nobles) no siguen esta norma. Para cada uno de los grupos, los compuestos de menos peso molecular (NH3, H2O, HF) tienen el punto de ebullición más alto, en contra de lo que se podría esperar en principio."
      ],
      "metadata": {
        "id": "iCQRfvJ8ElI5"
      }
    },
    {
      "cell_type": "markdown",
      "source": [
        "11.5 ¿Que propiedades fisicas se deberian considerar al comparar la intesidad de las fuerzas intermoleculares en los solidos y los liquidos\n",
        "\n",
        "\n",
        "Dado que las fuerzas intermoleculares existen entre millones de moléculas, para medirlas se debe considerar primero como difieren las siguientes propiedades físicas y químicas de los diferentes compuestos:\n",
        "\n",
        "•\tEstado de agregación\n",
        "\n",
        "•\tPunto de fusión\n",
        "\n",
        "•\tEntalpía de fusión\n",
        "\n",
        "•\tPunto de ebullición\n",
        "\n",
        "•\tEntalpía de vaporización\n",
        "\n",
        "•\tSolubilidad\n",
        "\n",
        "•\tDensidad\n",
        "\n",
        "•\tViscosidad\n"
      ],
      "metadata": {
        "id": "BlWbk8n_Esty"
      }
    },
    {
      "cell_type": "markdown",
      "source": [
        "11.6 ¿Cuales elementos pueden participar en los enlaces de hidrogeno?¿Por que el hidrogeno es unico en este tipo de interaccion?\n",
        "\n",
        "Solo los átomos electronegativos tal como el flúor, oxígeno o nitrógeno son aceptores de enlace de hidrógeno, sin importar si está enlazado covalentemente o no a un átomo de hidrógeno.\n",
        "Esto se debe a la naturaleza parcialmente covalente del hidrogeno, es decir a su naturaleza para juntarse con dichos átomos dado el valor de su propia valencia (+1)"
      ],
      "metadata": {
        "id": "0U5t9SQ4E9Ni"
      }
    },
    {
      "cell_type": "markdown",
      "source": [
        "##Propiedades de los liquidos"
      ],
      "metadata": {
        "id": "BY3fx0xnFHZq"
      }
    },
    {
      "cell_type": "markdown",
      "source": [
        "11.21 ¿Por qué los líquidos, a diferencia de los gases, son practicamente incompresibles?\n",
        "\n",
        "Los fluidos en estado líquido, como el agua, son fluidos incompresibles porque su densidad permanece esencialmente constante cuando cambia la presión."
      ],
      "metadata": {
        "id": "D7jLgVsmFO3M"
      }
    },
    {
      "cell_type": "markdown",
      "source": [
        "11.22 ¿Que es la tension superficial? ¿Que relacion existe entre esta propiedad y las fuerzas intermoleculares? ¿Como cambia la tension superficial con la temperatura?\n",
        "\n",
        "La tensión superficial es una manifestación de las fuerzas intermoleculares en los líquidos, y provoca que su superficie se comporte como una membrana. Por ejemplo, en el agua ciertos objetos livianos flotan debido a que su masa es muy poca como para romper dicha tensión superficial, tensión que se manifiesta por los enlaces de hidrogeno.\n",
        "\n",
        "En general la tensión superficial disminuye con la temperatura, ya que las fuerzas de cohesión disminuyen al aumentar la agitación térmica."
      ],
      "metadata": {
        "id": "mA8F-X2xFX3C"
      }
    },
    {
      "cell_type": "markdown",
      "source": [
        "11.25 Un vaso se puede llenar con agua justo por encima del borda ¿Por que el agua no se derrama?\n",
        "\n",
        "Porque la tensión superficial actúa como una membrana que está en su punto máximo de tensión antes de romperse, lo cual sucederá en el momento en que una gota más caiga o se agite el vaso, puesto que el peso del agua será la que lo rompa."
      ],
      "metadata": {
        "id": "WA8J5jMgFkK-"
      }
    },
    {
      "cell_type": "markdown",
      "source": [
        "11.27 ¿Que es la viscosidad? ¿Cual es la relacion entre las fuerzas intermoleculares y la viscosidad?\n",
        "\n",
        "La viscosidad se rige por la fuerza de las fuerzas intermoleculares y especialmente por las formas de las moléculas de un líquido. Los líquidos cuyas moléculas son polares o pueden formar enlaces de hidrógeno suelen ser más viscosos que sustancias no polares similares."
      ],
      "metadata": {
        "id": "PMBdnJsgFt9X"
      }
    },
    {
      "cell_type": "markdown",
      "source": [
        "##Soluciones"
      ],
      "metadata": {
        "id": "pRhjlk9LF1VH"
      }
    },
    {
      "cell_type": "markdown",
      "source": [
        "12.3 Describa brevemente el proceso de disolucion a nivel molecular. Utilice como ejemplo la disolucion de un solido en un liquido\n",
        "\n",
        "Una disolución es molecular cuando cada partícula del soluto es una molécula.\n",
        "Por ejemplo, un terrón de azúcar en agua se disuelve de forma que cada molécula de azúcar se dispersa entre las moléculas de disolvente, pero sin disociarse, por lo que dice que es una disolución molecular."
      ],
      "metadata": {
        "id": "081OfGYCF4FX"
      }
    },
    {
      "cell_type": "markdown",
      "source": [
        "12.4 A partir de las fuerzas intermoleculares, explique el significado de \"lo semejante disuelve lo semejante\"\n",
        "\n",
        "Los compuestos orgánicos tienden a disolverse bien en los solventes que tienen propiedades semejantes a las suyas. Este principio frecuentemente se conoce como \"lo similar disuelve lo similar,\" lo que quiere decir que las moléculas polares suelen disolverse bien en los solventes polares y las moléculas no polares suelen disolverse en solventes no polares.\n",
        "Un ejemplo de esto son las aleaciones, como el zinc y el estaño para formar el bronce, siendo ambos metales y por lo tanto elementos con enlaces polares o iónicos\n"
      ],
      "metadata": {
        "id": "-wBsbSu_GCY5"
      }
    },
    {
      "cell_type": "markdown",
      "source": [
        "12.7 Explique por que el proceso de disolucion invariablemente conduce a un aumento del desorden\n",
        "\n",
        "Porque cuando 2 sustancias se disuelven entre si el nuevo compuesto queda formado por cantidades directamente proporcionales a las sustancias iniciales, pero mientras más sustancias se agreguen a la mezcla más desordenado será dicho compuesto.\n",
        "Un ejemplo seria las rocas sedimentarias las cuales son un conjunto de minerales, restos orgánicos y hasta metales, pero desordenados y carentes de una estructura funcional.\n"
      ],
      "metadata": {
        "id": "B2AA1-z9GNbJ"
      }
    },
    {
      "cell_type": "markdown",
      "source": [
        "12.8 Describa los factores que afectan la solubilidad de un solido en un liquido ¿Que significa decir que dos liquidos son miscibles?\n",
        "\n",
        "Miscibilidad es un término usado en química que se refiere a la propiedad de algunos líquidos para mezclarse en cualquier proporción, formando una disolución.\n",
        "El agua y el etanol (alcohol etílico), por ejemplo, son miscibles en cualquier proporción.\n",
        "Factores que afectan la solubilidad en un sólido:\n",
        "\n",
        "•\tSuperficie de contacto: Al aumentar la superficie de contacto del soluto con el solvente, las interacciones soluto-solvente aumentarán y el soluto se disuelve con mayor rapidez.\n",
        "\n",
        "•\tAgitación: Al disolverse el sólido, las partículas del mismo deben difundirse por toda la masa del disolvente. Este proceso es lento, y alrededor del cristal se forma una capa de disolución muy concentrada que dificulta la continuación del proceso, al agitar la solución se logra la separación de la capa y nuevas moléculas del disolvente alcanzan la superficie del sólido.\n",
        "\n",
        "•\tTemperatura: Al aumentar la temperatura se favorece el movimiento de las moléculas en la solución y con ello su rápida difusión. Además, una temperatura elevada hace que la energía de las partículas del sólido, iones o moléculas sea alta y puedan abandonar con facilidad su superficie, disolviéndose.\n"
      ],
      "metadata": {
        "id": "2FuTy1ZTGT9Z"
      }
    },
    {
      "cell_type": "markdown",
      "source": [
        "## Unidades de concentracion"
      ],
      "metadata": {
        "id": "WbuUAAqXGgij"
      }
    },
    {
      "cell_type": "markdown",
      "source": [
        "12.13 Defina los siguientes terminos y especifique sus unidades:\n",
        "\n",
        "Porcentaje en masa:\tUnidades en peso de soluto contenidas en 100 unidades de peso de disolución.\n",
        "\t- Unidades: Gramos de soluto /100 gramos de disolución\n",
        "\n",
        "Fracción molar:\tNúmero de moles de soluto por moles de disolvente.\n",
        "  - Unidades:\tMoles de soluto / Moles de disolvente\n",
        "\n",
        "Molaridad:\tNúmero de moles de soluto contenidas en 1 lt de disolución.\n",
        "\t - Unidades: Moles de soluto /Litros de disolución\n",
        "\n",
        "Molalidad: Número de moles de soluto por kilogramo de disolvente.\n",
        "   - Unidades: Moles de soluto / Kilogramos de disolvente\n",
        "\n"
      ],
      "metadata": {
        "id": "lHa8N88CGi9j"
      }
    },
    {
      "cell_type": "markdown",
      "source": [
        "12.15 Calcule el pocentaje en masa del soluto de\n",
        "\n",
        "a) 5.50 g de NaBr en 78.2 g de disolucion\n",
        "\n",
        "b) 31.0 g de KCl en 152 g de diso.\n",
        "\n",
        "c) 4.5 g de tolueno en 29 g de benceno"
      ],
      "metadata": {
        "id": "29Vd7lQTGo7T"
      }
    },
    {
      "cell_type": "code",
      "source": [
        "# a)\n",
        "Na = 5.50 #gramos\n",
        "sol = 78.2 #gramos\n",
        "Pmasa = (Na/sol) * 100\n",
        "print(f\"el porcentaje en masa del soluto es {Pmasa: .4f} %\")"
      ],
      "metadata": {
        "colab": {
          "base_uri": "https://localhost:8080/"
        },
        "id": "WPYDZ2ZSLspR",
        "outputId": "43009f46-4ec9-4de5-f035-d604ca7924e1"
      },
      "execution_count": 8,
      "outputs": [
        {
          "output_type": "stream",
          "name": "stdout",
          "text": [
            "el porcentaje en masa del soluto es  7.0332 %\n"
          ]
        }
      ]
    },
    {
      "cell_type": "code",
      "source": [
        "# b)\n",
        "KCL = 31.0 #gramos\n",
        "sol = 152 #gramos\n",
        "Pmasa = (KCL/sol) * 100\n",
        "print(f\"el porcentaje en masa del soluto es {Pmasa: .4f} %\")"
      ],
      "metadata": {
        "colab": {
          "base_uri": "https://localhost:8080/"
        },
        "id": "OBr5dR5FNQda",
        "outputId": "48f85c46-a672-4d6b-cc93-10bb38ac9c36"
      },
      "execution_count": 9,
      "outputs": [
        {
          "output_type": "stream",
          "name": "stdout",
          "text": [
            "el porcentaje en masa del soluto es  20.3947 %\n"
          ]
        }
      ]
    },
    {
      "cell_type": "code",
      "source": [
        "# c)\n",
        "To = 4.5 #gramos\n",
        "Ben = 29 #gramos\n",
        "Pmasa = (To/Ben) * 100 #%\n",
        "print(f\"el porcentaje en masa del soluto es {Pmasa: .4f} %\")"
      ],
      "metadata": {
        "colab": {
          "base_uri": "https://localhost:8080/"
        },
        "id": "7j901kZBNdKz",
        "outputId": "0694c73c-72c7-459d-a130-bb709f691686"
      },
      "execution_count": 10,
      "outputs": [
        {
          "output_type": "stream",
          "name": "stdout",
          "text": [
            "el porcentaje en masa del soluto es  15.5172 %\n"
          ]
        }
      ]
    },
    {
      "cell_type": "markdown",
      "source": [
        "12.16 Calcule la cantidad de agua (en gramos) que se debe agregar a:\n",
        "\n",
        "a) 5.00 g de urea (NH2) 2CO para preparar una disolucion al 16.2% en masa\n",
        "\n",
        "b) 26.2 g de MgCl2 para preparar una disolucion al 1.5% en masa"
      ],
      "metadata": {
        "id": "rtqj8R8hHGDi"
      }
    },
    {
      "cell_type": "code",
      "source": [
        "# a)\n",
        "Ur = 5 #gramos\n",
        "Pmasa = 16.2 #%\n",
        "#formula = 16.2% = m. soluto/ (m soluto + m agua) *100 %\n",
        "# reduciendo y despejando:  (5/16.2) * 100 - 5 = m agua\n",
        "Masa_agua = ((Ur/Pmasa)*100) - Ur\n",
        "print(f\"la cantidad en masa del agua es {Masa_agua: .4f} gr\")"
      ],
      "metadata": {
        "colab": {
          "base_uri": "https://localhost:8080/"
        },
        "id": "tcrayDvjN1us",
        "outputId": "b357c97c-3df9-4812-a81b-ec74c4ad1c3d"
      },
      "execution_count": 12,
      "outputs": [
        {
          "output_type": "stream",
          "name": "stdout",
          "text": [
            "la cantidad en masa del agua es  25.8642\n"
          ]
        }
      ]
    },
    {
      "cell_type": "code",
      "source": [
        "# b)\n",
        "MgCl = 26.2 #gramos\n",
        "Pmasa = 1.5 #%\n",
        "Masa_agua = ((MgCl/Pmasa)*100) - MgCl\n",
        "print(f\"la cantidad en masa del agua es {Masa_agua: .4f} gr\")"
      ],
      "metadata": {
        "colab": {
          "base_uri": "https://localhost:8080/"
        },
        "id": "z6ABHFgKPW0m",
        "outputId": "2c659717-21e9-4064-f9c8-39674c003c27"
      },
      "execution_count": 13,
      "outputs": [
        {
          "output_type": "stream",
          "name": "stdout",
          "text": [
            "la cantidad en masa del agua es  1720.4667\n"
          ]
        }
      ]
    },
    {
      "cell_type": "markdown",
      "source": [
        "12.17 Calcule la molalidad de:\n",
        "\n",
        "a) 14.3 g de sacarosa (C12H22O11) en 676 g de agua\n",
        "\n",
        "b) 7.20 moles de etilenglicol (C2H6O2) en 3546 g de agua"
      ],
      "metadata": {
        "id": "HgFP0ZEEIA-U"
      }
    },
    {
      "cell_type": "code",
      "source": [
        "# a)\n",
        "# se calcula el N° de Moles\n",
        "masa = 14.3\n",
        "C = 12.011 * 12\n",
        "H = 1.00784 * 22\n",
        "O = 15.999 * 11\n",
        "Peso = C + H + O\n",
        "Moles = masa/Peso\n",
        "# se pasa la cantidad de agua de g a kg\n",
        "Agua = 676/1000\n",
        "#Se calcula la molalildad\n",
        "Molalidad = Moles/Agua\n",
        "print(f\" N° moles {Moles: .2f}\")\n",
        "print(f\" Kg de agua {Agua: .4f}\")\n",
        "print(f\" la molalidad es {Molalidad: .2f} moles/kg\")"
      ],
      "metadata": {
        "colab": {
          "base_uri": "https://localhost:8080/"
        },
        "id": "69h2dV5CP8vL",
        "outputId": "8c367f4b-6d92-431e-e263-8f48d97a4bcd"
      },
      "execution_count": 14,
      "outputs": [
        {
          "output_type": "stream",
          "name": "stdout",
          "text": [
            " N° moles  0.04\n",
            " Kg de agua  0.6760\n",
            " la molalidad es  0.06 moles/kg\n"
          ]
        }
      ]
    },
    {
      "cell_type": "code",
      "source": [
        "# b)\n",
        "Moles = 7.20\n",
        "# se pasa la cantidad de agua de g a kg\n",
        "Agua = 3546/1000\n",
        "#Se calcula la molalildad\n",
        "Molalidad = Moles/Agua\n",
        "print(f\" N° moles {Moles: .2f}\")\n",
        "print(f\" Kg de agua {Agua: .4f}\")\n",
        "print(f\" la molalidad es {Molalidad: .2f} moles/kg\")"
      ],
      "metadata": {
        "colab": {
          "base_uri": "https://localhost:8080/"
        },
        "id": "aLmUAvkpTBlT",
        "outputId": "5bd88bb8-24a4-43a2-f610-a959e47c288f"
      },
      "execution_count": 15,
      "outputs": [
        {
          "output_type": "stream",
          "name": "stdout",
          "text": [
            " N° moles  7.20\n",
            " Kg de agua  3.5460\n",
            " la molalidad es  2.03 moles/kg\n"
          ]
        }
      ]
    },
    {
      "cell_type": "markdown",
      "source": [
        "12.18 Calcule la molalidad de:\n",
        "\n",
        "a) disolucion de NaCl 2.50 M (densidad de la disolucion = 1.08 g/ml)\n",
        "\n",
        "b) disolucion de KBr al 48.2% en masa"
      ],
      "metadata": {
        "id": "r6CWBbJtIblf"
      }
    },
    {
      "cell_type": "code",
      "source": [
        "# a)\n",
        "# se calcula la masa del soluto, solvente y solucion\n",
        "# se tienen 2.5 moles de NaCl en 1 litro de solucion, y usando la densidad\n",
        "Moles = 2.50\n",
        "Masa_solucion = 1 * 1.08 * 1000 #g\n",
        "Masa_atomica = 22.989 + 35.453\n",
        "Masa_soluto = 2.50 * Masa_atomica\n",
        "Masa_solvente = Masa_solucion - Masa_soluto #g\n",
        "# pasamos el solvente a kg\n",
        "kg = Masa_solvente/1000\n",
        "#calculamos la molalidad\n",
        "Molalidad = Moles/kg\n",
        "print(f\" la molalidad de la disolucion es {Molalidad: .2f} mol/kg\")"
      ],
      "metadata": {
        "colab": {
          "base_uri": "https://localhost:8080/"
        },
        "id": "H4npmuJIUhz8",
        "outputId": "b6f0348a-10d5-47e4-f4c7-52a47e78bd10"
      },
      "execution_count": 16,
      "outputs": [
        {
          "output_type": "stream",
          "name": "stdout",
          "text": [
            " la molalidad de la disolucion es  2.68 mol/kg\n"
          ]
        }
      ]
    },
    {
      "cell_type": "code",
      "source": [
        "# b)\n",
        "# en 100 g de la solucion se tiene 48.2 g de soluto, calculamos la masa del solvente y convertimos a kg\n",
        "masa_solucion = 100\n",
        "masa_soluto = 48.2\n",
        "masa_solvente = (masa_solucion - masa_soluto)/1000\n",
        "#se halla el N° de moles del soluto\n",
        "masa_atomicaKBr = 39.098 + 79.904\n",
        "moles = masa_soluto/masa_atomicaKBr\n",
        "#se halla la molaidad\n",
        "molalidad = moles/masa_solvente\n",
        "print(f\" la molalidad de la disolucion es {molalidad: .2f} mol/kg\")"
      ],
      "metadata": {
        "colab": {
          "base_uri": "https://localhost:8080/"
        },
        "id": "9PnoJbHtXP5r",
        "outputId": "a1232886-0898-4cc3-958f-b162fde8091e"
      },
      "execution_count": 22,
      "outputs": [
        {
          "output_type": "stream",
          "name": "stdout",
          "text": [
            " la molalidad de la disolucion es  7.82 mol/kg\n"
          ]
        }
      ]
    },
    {
      "cell_type": "markdown",
      "source": [
        "12.23 Calcule la molaridad y la molalidad de una disolucion de NH3. preparada con 30 g de NH3 en 70.0 g de agua. La densidad de la disolucion es de  0.982 g/ml"
      ],
      "metadata": {
        "id": "DF2pZhGqI4NL"
      }
    },
    {
      "cell_type": "code",
      "source": [
        "#se hallan los datos faltantes\n",
        "masa_soluto = 30 #g\n",
        "masa_solvente = 70 #g\n",
        "masa_solucion = masa_solvente + masa_soluto\n",
        "# se hallan los moles\n",
        "masa_NH3 = 14 + (1*3)\n",
        "moles = masa_soluto/masa_NH3\n",
        "#se halla el volumen en litros\n",
        "D = 0.982 #g/ml\n",
        "V = (masa_solucion/D)/1000\n",
        "# se halla la molaridad (moles/volumen)\n",
        "Molaridad = moles/V\n",
        "#se pasa la masa del solvente a kg\n",
        "kg = masa_solvente/1000\n",
        "#se halla la molalidad\n",
        "Mol = moles/kg\n",
        "print(f\" la molalidad de la disolucion es {Mol: .2f} mol/kg\")\n",
        "print(f\" la molaridad de la disolucion es {Molaridad: .2f} mol/kg\")"
      ],
      "metadata": {
        "colab": {
          "base_uri": "https://localhost:8080/"
        },
        "id": "jRkJNETeaIVj",
        "outputId": "903fde27-dec6-4a8d-8a49-f149ec3e585f"
      },
      "execution_count": 29,
      "outputs": [
        {
          "output_type": "stream",
          "name": "stdout",
          "text": [
            " la molalidad de la disolucion es  25.21 mol/kg\n",
            " la molaridad de la disolucion es  17.33 mol/kg\n"
          ]
        }
      ]
    },
    {
      "cell_type": "markdown",
      "source": [
        "## Efecto de la tempertura en la solublidad"
      ],
      "metadata": {
        "id": "rCs9fG8uJJ6y"
      }
    },
    {
      "cell_type": "markdown",
      "source": [
        "12.27 Una muestra de 3.20 g de una sal se disuelve en 9.10 g de agua para formar una disolucion saturada a 25°C ¿Cual es la solublidad (en g sal/100 g de H2O) de la sal?"
      ],
      "metadata": {
        "id": "Gz2ukAnrJQCy"
      }
    },
    {
      "cell_type": "code",
      "source": [
        "#solublidad = m del soluto/ masa del solvente\n",
        "# masa inicial del solucto/masa inicial del soluto = masa final del soluto/masa final del solvente\n",
        "# despejando: masa final del soluto = (misoluto/misolvente)* masa final del solvente\n",
        "\n",
        "misolu = 3.20\n",
        "misolv = 9.10\n",
        "mfsolvente = 100\n",
        "\n",
        "mfsoluto = (misolu/misolv) * mfsolvente\n",
        "solubilidad = mfsoluto/mfsolvente\n",
        "\n",
        "print(f\"la solubilidad es {solubilidad: .2f} g\")\n",
        "print(f\"en los gramos de sal son {mfsoluto: .2f} g\")"
      ],
      "metadata": {
        "colab": {
          "base_uri": "https://localhost:8080/"
        },
        "id": "vEwPNGaXoRNx",
        "outputId": "df2697db-274d-4200-d3a5-a6122bab92c0"
      },
      "execution_count": 33,
      "outputs": [
        {
          "output_type": "stream",
          "name": "stdout",
          "text": [
            "la solubilidad es  0.35 g\n",
            "en los gramos de sal son  35.16 g\n"
          ]
        }
      ]
    }
  ]
}