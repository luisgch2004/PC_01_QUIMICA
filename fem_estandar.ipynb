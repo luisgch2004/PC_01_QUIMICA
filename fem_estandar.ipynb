{
  "nbformat": 4,
  "nbformat_minor": 0,
  "metadata": {
    "colab": {
      "provenance": [],
      "authorship_tag": "ABX9TyN8Oc0mPXETTayMpah8rBSX",
      "include_colab_link": true
    },
    "kernelspec": {
      "name": "python3",
      "display_name": "Python 3"
    },
    "language_info": {
      "name": "python"
    }
  },
  "cells": [
    {
      "cell_type": "markdown",
      "metadata": {
        "id": "view-in-github",
        "colab_type": "text"
      },
      "source": [
        "<a href=\"https://colab.research.google.com/github/luisgch2004/PC_01_QUIMICA/blob/main/fem_estandar.ipynb\" target=\"_parent\"><img src=\"https://colab.research.google.com/assets/colab-badge.svg\" alt=\"Open In Colab\"/></a>"
      ]
    },
    {
      "cell_type": "markdown",
      "source": [
        "Ingresar los reactivos y productos e imprimir la reaccion neta y el potencial de la celda"
      ],
      "metadata": {
        "id": "1Fi94tQVhK-2"
      }
    },
    {
      "cell_type": "code",
      "source": [
        "! git clone https://github.com/Sd0071/Redox-Reaction-Balancer.git"
      ],
      "metadata": {
        "colab": {
          "base_uri": "https://localhost:8080/"
        },
        "id": "BqURhUMunJj6",
        "outputId": "273bde00-6e42-4e80-8409-f345e4303ca7"
      },
      "execution_count": 1,
      "outputs": [
        {
          "output_type": "stream",
          "name": "stdout",
          "text": [
            "Cloning into 'Redox-Reaction-Balancer'...\n",
            "remote: Enumerating objects: 163, done.\u001b[K\n",
            "remote: Counting objects: 100% (163/163), done.\u001b[K\n",
            "remote: Compressing objects: 100% (112/112), done.\u001b[K\n",
            "remote: Total 163 (delta 74), reused 134 (delta 45), pack-reused 0\u001b[K\n",
            "Receiving objects: 100% (163/163), 48.40 KiB | 688.00 KiB/s, done.\n",
            "Resolving deltas: 100% (74/74), done.\n"
          ]
        }
      ]
    },
    {
      "cell_type": "code",
      "source": [
        "import sys\n",
        "sys.path.append('/content/Redox-Reaction-Balancer')"
      ],
      "metadata": {
        "id": "3tded-AenUsa"
      },
      "execution_count": 2,
      "outputs": []
    },
    {
      "cell_type": "code",
      "source": [
        "import re"
      ],
      "metadata": {
        "id": "9SUcKpz4nWdh"
      },
      "execution_count": 29,
      "outputs": []
    },
    {
      "cell_type": "code",
      "source": [
        "from lib.molecule_identifier import Reaction"
      ],
      "metadata": {
        "id": "tvbx7B4rnZ5B"
      },
      "execution_count": 4,
      "outputs": []
    },
    {
      "cell_type": "code",
      "source": [
        "from lib.half_cell_reaction import balance_electron"
      ],
      "metadata": {
        "id": "p33XWXLzncdR"
      },
      "execution_count": 5,
      "outputs": []
    },
    {
      "cell_type": "code",
      "source": [
        "from lib.molecule_identifier import Molecule"
      ],
      "metadata": {
        "id": "Ltvr56mHnfVh"
      },
      "execution_count": 6,
      "outputs": []
    },
    {
      "cell_type": "code",
      "source": [
        "# Crear una instancia de la clase Reaction con los parámetros dados\n",
        "reaction_instance = Reaction('(1)Fe1S2[0] + (2)H1Cl1[0]', '(1)Fe1Cl3[0] + (2)H1S1[0]')\n",
        "\n",
        "# Imprimir la ecuación antes de balancear\n",
        "print(\"Ecuación antes de balancear:\")\n",
        "reaction_instance.print_rxn()\n",
        "\n",
        "# Crear instancias de las reacciones de reducción y oxidación\n",
        "oxidation_reaction = Reaction('(1)Fe1S2[0]', '(1)Fe1[0] + (2)S1O4[-2]')\n",
        "reduction_reaction = Reaction('(2)H1Cl1[0]', '(2)H1[0] + (2)Cl1[-1]')\n",
        "\n",
        "# Llamar a la función balance_electron\n",
        "balanced_oxidation, balanced_reduction = balance_electron(oxidation_reaction, reduction_reaction)\n",
        "\n",
        "# Imprimir la ecuación después de balancear (reacción de reducción)\n",
        "print(\"\\nEcuación después de balancear:\")\n",
        "\n",
        "print(\"\\nOxidación (anodo)\")\n",
        "balanced_oxidation.print_rxn()\n",
        "\n",
        "print(\"\\nOxidación (catodo)\")\n",
        "balanced_reduction.print_rxn()"
      ],
      "metadata": {
        "colab": {
          "base_uri": "https://localhost:8080/"
        },
        "id": "UswnLSVlngGn",
        "outputId": "bb12baab-5b69-4499-a4af-97ebe91c2b09"
      },
      "execution_count": 7,
      "outputs": [
        {
          "output_type": "stream",
          "name": "stdout",
          "text": [
            "Ecuación antes de balancear:\n",
            "(1)Fe1S2[0] + (2)H1Cl1[0] + \b\b\b  ---> (1)Fe1Cl3[0] + (2)H1S1[0] + \b\b\b        \n",
            "\n",
            "\n",
            "Ecuación después de balancear:\n",
            "\n",
            "Oxidación (anodo)\n",
            "(1)Fe1S2[0] + \b\b\b  ---> (1)Fe1[0] + (2)S1O4[-2] + \b\b\b        \n",
            "\n",
            "\n",
            "Oxidación (catodo)\n",
            "(4)H1Cl1[0] + \b\b\b  ---> (4)H1[0] + (4)Cl1[-1] + \b\b\b        \n",
            "\n"
          ]
        }
      ]
    },
    {
      "cell_type": "code",
      "source": [
        "# Obtener las cargas totales de los productos del anodo y del catodo\n",
        "carga_total_anodo = balanced_oxidation.get_side('product')[1].get_charge() if balanced_oxidation.get_side('product') else 0\n",
        "carga_total_catodo = balanced_reduction.get_side('product')[1].get_charge() if balanced_reduction.get_side('product') else 0\n",
        "\n",
        "# Imprimir la ecuación después de balancear (reacción de reducción)\n",
        "print(\"\\nEcuación después de balancear:\")\n",
        "print(\"\\nOxidación (anodo)\")\n",
        "balanced_oxidation.print_rxn()\n",
        "\n",
        "print(\"\\nReduccion (catodo)\")\n",
        "balanced_reduction.print_rxn()\n",
        "\n",
        "# Imprimir las cargas totales de los productos del anodo y del catodo\n",
        "print(\"\\nCarga total del anodo:\", carga_total_anodo)\n",
        "print(\"Carga total del catodo:\", carga_total_catodo)"
      ],
      "metadata": {
        "colab": {
          "base_uri": "https://localhost:8080/"
        },
        "id": "vLNTF-FjnktJ",
        "outputId": "f21ac4b3-c7ea-4eff-e6e5-b36108e0952f"
      },
      "execution_count": 14,
      "outputs": [
        {
          "output_type": "stream",
          "name": "stdout",
          "text": [
            "\n",
            "Ecuación después de balancear:\n",
            "\n",
            "Oxidación (anodo)\n",
            "(1)Fe1S2[0] + \b\b\b  ---> (1)Fe1[0] + (2)S1O4[-2] + \b\b\b        \n",
            "\n",
            "\n",
            "Reduccion (catodo)\n",
            "(4)H1Cl1[0] + \b\b\b  ---> (4)H1[0] + (4)Cl1[-1] + \b\b\b        \n",
            "\n",
            "\n",
            "Carga total del anodo: -4\n",
            "Carga total del catodo: -4\n"
          ]
        }
      ]
    },
    {
      "cell_type": "code",
      "source": [
        "#Definimos una funcion para cambiar la notacion\n",
        "def cambiar_notacion(numero):\n",
        "  numero = (format(numero,'.3E'))\n",
        "  numero = numero.replace(\"E\", \" x 10^\")\n",
        "  return numero"
      ],
      "metadata": {
        "id": "JFMiKGf0nmeL"
      },
      "execution_count": 9,
      "outputs": []
    },
    {
      "cell_type": "code",
      "source": [
        "#Hallamos la carga en coulomb para el anodo y catodo\n",
        "carga_electron = (-1.602*pow(10,-19))\n",
        "\n",
        "carga_c_anodo = carga_total_anodo*carga_electron\n",
        "carga_c_catodo = carga_total_catodo*carga_electron\n",
        "\n",
        "carga_electron_not=cambiar_notacion(carga_electron)\n",
        "carga_c_anodo_not=cambiar_notacion(carga_c_anodo)\n",
        "carga_c_catodo_not=cambiar_notacion(carga_c_catodo)\n",
        "\n",
        "print(\"La carga del electron es: \",carga_electron_not)\n",
        "print(\"La carga en Coulumb de anodo: \",carga_c_anodo_not)\n",
        "print(\"La carga en Coulumb de catodo: \",carga_c_catodo_not)"
      ],
      "metadata": {
        "colab": {
          "base_uri": "https://localhost:8080/"
        },
        "id": "MFcOZxURnoka",
        "outputId": "c9ef3017-03fd-4efc-ecc3-b89942435b37"
      },
      "execution_count": 10,
      "outputs": [
        {
          "output_type": "stream",
          "name": "stdout",
          "text": [
            "La carga del electron es:  -1.602 x 10^-19\n",
            "La carga en Coulumb de anodo:  6.408 x 10^-19\n",
            "La carga en Coulumb de catodo:  6.408 x 10^-19\n"
          ]
        }
      ]
    },
    {
      "cell_type": "code",
      "source": [
        "#Calculamos la energia\n",
        "energia_anodo = carga_c_anodo/96500\n",
        "energia_catodo = carga_c_catodo/96500\n",
        "\n",
        "anodo_not = cambiar_notacion(energia_anodo)\n",
        "catodo_not = cambiar_notacion(energia_catodo)\n",
        "\n",
        "print(\"la energia del anodo en Faraday es\", anodo_not)\n",
        "print(\"la energia del catodo en Faraday es\", catodo_not)"
      ],
      "metadata": {
        "colab": {
          "base_uri": "https://localhost:8080/"
        },
        "id": "qWj7LOkcnr3y",
        "outputId": "874bd828-f404-4ce9-a143-ed51f9b2c85c"
      },
      "execution_count": 25,
      "outputs": [
        {
          "output_type": "stream",
          "name": "stdout",
          "text": [
            "la energia del anodo en Faraday es 6.640 x 10^-24\n",
            "la energia del catodo en Faraday es 6.640 x 10^-24\n"
          ]
        }
      ]
    },
    {
      "cell_type": "code",
      "source": [
        "#Potencial de celda o fem (damos uno estadar)\n",
        "fem_estandar= energia_catodo - energia_anodo\n",
        "print(\"la fem de la celda es\", fem_estandar)"
      ],
      "metadata": {
        "colab": {
          "base_uri": "https://localhost:8080/"
        },
        "id": "kVlh6rJQnqg8",
        "outputId": "89f8e75c-e4e1-46f6-cc3c-3bc7366f5e1d"
      },
      "execution_count": 26,
      "outputs": [
        {
          "output_type": "stream",
          "name": "stdout",
          "text": [
            "la fem de la celda es 0.0\n"
          ]
        }
      ]
    }
  ]
}