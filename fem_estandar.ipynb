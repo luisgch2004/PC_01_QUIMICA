{
  "nbformat": 4,
  "nbformat_minor": 0,
  "metadata": {
    "colab": {
      "provenance": [],
      "authorship_tag": "ABX9TyMh6Z9qYBDW8SrDdXV3mRN6",
      "include_colab_link": true
    },
    "kernelspec": {
      "name": "python3",
      "display_name": "Python 3"
    },
    "language_info": {
      "name": "python"
    }
  },
  "cells": [
    {
      "cell_type": "markdown",
      "metadata": {
        "id": "view-in-github",
        "colab_type": "text"
      },
      "source": [
        "<a href=\"https://colab.research.google.com/github/luisgch2004/PC_01_QUIMICA/blob/main/fem_estandar.ipynb\" target=\"_parent\"><img src=\"https://colab.research.google.com/assets/colab-badge.svg\" alt=\"Open In Colab\"/></a>"
      ]
    },
    {
      "cell_type": "code",
      "execution_count": 1,
      "metadata": {
        "id": "7_MAtUuhxwYl"
      },
      "outputs": [],
      "source": [
        "# Buen dia profesor, al final no logramos encontrar una libreria de python que pueda balancear ecuaciones con aniones\n",
        "# Por lo que se recurrio a usar una libreria hecha por alguien y guardada en GitHub, pese a las pocas  especificaciones del autor,\n",
        "# Se intento lograr los resultados que se pidieron en la practica"
      ]
    },
    {
      "cell_type": "code",
      "source": [
        "# Es necesario correr las celdas de aqui, para clonar el repositorio y importar sus librerias\n",
        "! git clone https://github.com/Sd0071/Redox-Reaction-Balancer.git"
      ],
      "metadata": {
        "colab": {
          "base_uri": "https://localhost:8080/"
        },
        "id": "ppXs4R5fx3Xi",
        "outputId": "9168d071-68ce-4747-a62a-f8ead63ca7f0"
      },
      "execution_count": 2,
      "outputs": [
        {
          "output_type": "stream",
          "name": "stdout",
          "text": [
            "Cloning into 'Redox-Reaction-Balancer'...\n",
            "remote: Enumerating objects: 163, done.\u001b[K\n",
            "remote: Counting objects: 100% (163/163), done.\u001b[K\n",
            "remote: Compressing objects: 100% (112/112), done.\u001b[K\n",
            "remote: Total 163 (delta 74), reused 134 (delta 45), pack-reused 0\u001b[K\n",
            "Receiving objects: 100% (163/163), 48.40 KiB | 12.10 MiB/s, done.\n",
            "Resolving deltas: 100% (74/74), done.\n"
          ]
        }
      ]
    },
    {
      "cell_type": "code",
      "source": [
        "import sys\n",
        "sys.path.append('/content/Redox-Reaction-Balancer')"
      ],
      "metadata": {
        "id": "88yP5sa_x53i"
      },
      "execution_count": 3,
      "outputs": []
    },
    {
      "cell_type": "code",
      "source": [
        "import re"
      ],
      "metadata": {
        "id": "D5u77GT0x7L6"
      },
      "execution_count": 4,
      "outputs": []
    },
    {
      "cell_type": "code",
      "source": [
        "from lib.molecule_identifier import Reaction"
      ],
      "metadata": {
        "id": "H44coW0ex9Ly"
      },
      "execution_count": 5,
      "outputs": []
    },
    {
      "cell_type": "code",
      "source": [
        "from lib.half_cell_reaction import balance_electron"
      ],
      "metadata": {
        "id": "13TgEjLLx-tx"
      },
      "execution_count": 6,
      "outputs": []
    },
    {
      "cell_type": "code",
      "source": [
        "from lib.molecule_identifier import Molecule"
      ],
      "metadata": {
        "id": "l6ONh6FvyAiK"
      },
      "execution_count": 7,
      "outputs": []
    },
    {
      "cell_type": "code",
      "source": [
        "# En estas funciones, los coeficientes de los compuestos estan entre parentesis\n",
        "# Y las cargas totales de cada compuesto estan entre corchetes"
      ],
      "metadata": {
        "id": "gLXZRUVByBWi"
      },
      "execution_count": 8,
      "outputs": []
    },
    {
      "cell_type": "code",
      "source": [
        "# Ejemplo de como usarlo y calcular las energias de anodo y del catodo:"
      ],
      "metadata": {
        "id": "28rhy80NyDy6"
      },
      "execution_count": 9,
      "outputs": []
    },
    {
      "cell_type": "code",
      "source": [
        "# Crear una instancia de la clase Reaction con los parámetros dados\n",
        "reaction_instance = Reaction('(1)Fe1S2[0] + (2)H1Cl1[0]', '(1)Fe1Cl3[0] + (2)H1S1[0]')\n",
        "\n",
        "# Imprimir la ecuación antes de balancear\n",
        "print(\"Ecuación antes de balancear:\")\n",
        "reaction_instance.print_rxn()\n",
        "\n",
        "# Crear instancias de las reacciones de reducción y oxidación\n",
        "oxidation_reaction = Reaction('(1)Fe1S2[0]', '(1)Fe1[0] + (2)S1O4[-2]')\n",
        "reduction_reaction = Reaction('(2)H1Cl1[0]', '(2)H1[0] + (2)Cl1[-1]')\n",
        "\n",
        "# Llamar a la función balance_electron\n",
        "balanced_oxidation, balanced_reduction = balance_electron(oxidation_reaction, reduction_reaction)\n",
        "\n",
        "# Imprimir la ecuación después de balancear (reacción de reducción)\n",
        "print(\"\\nEcuación después de balancear:\")\n",
        "\n",
        "print(\"\\nOxidación (anodo)\")\n",
        "balanced_oxidation.print_rxn()\n",
        "\n",
        "print(\"\\nOxidación (catodo)\")\n",
        "balanced_reduction.print_rxn()"
      ],
      "metadata": {
        "colab": {
          "base_uri": "https://localhost:8080/"
        },
        "id": "pWK87GasyFg6",
        "outputId": "fb852e3a-b6f9-41e0-b7fb-5fe22d4c544a"
      },
      "execution_count": 10,
      "outputs": [
        {
          "output_type": "stream",
          "name": "stdout",
          "text": [
            "Ecuación antes de balancear:\n",
            "(1)Fe1S2[0] + (2)H1Cl1[0] + \b\b\b  ---> (1)Fe1Cl3[0] + (2)H1S1[0] + \b\b\b        \n",
            "\n",
            "\n",
            "Ecuación después de balancear:\n",
            "\n",
            "Oxidación (anodo)\n",
            "(1)Fe1S2[0] + \b\b\b  ---> (1)Fe1[0] + (2)S1O4[-2] + \b\b\b        \n",
            "\n",
            "\n",
            "Oxidación (catodo)\n",
            "(4)H1Cl1[0] + \b\b\b  ---> (4)H1[0] + (4)Cl1[-1] + \b\b\b        \n",
            "\n"
          ]
        }
      ]
    },
    {
      "cell_type": "code",
      "source": [
        "# Obtener las cargas totales de los productos del anodo y del catodo\n",
        "carga_total_anodo = balanced_oxidation.get_side('product')[1].get_charge() if balanced_oxidation.get_side('product') else 0\n",
        "carga_total_catodo = balanced_reduction.get_side('product')[1].get_charge() if balanced_reduction.get_side('product') else 0\n",
        "\n",
        "# Imprimir la ecuación después de balancear (reacción de reducción)\n",
        "print(\"\\nEcuación después de balancear:\")\n",
        "print(\"\\nOxidación (anodo)\")\n",
        "balanced_oxidation.print_rxn()\n",
        "\n",
        "print(\"\\nOxidación (catodo)\")\n",
        "balanced_reduction.print_rxn()\n",
        "\n",
        "# Imprimir las cargas totales de los productos del anodo y del catodo\n",
        "print(\"\\nCarga total del anodo:\", carga_total_anodo)\n",
        "print(\"Carga total del catodo:\", carga_total_catodo)"
      ],
      "metadata": {
        "colab": {
          "base_uri": "https://localhost:8080/"
        },
        "id": "WqStYNEMyITS",
        "outputId": "ae2f6f3c-e314-4f6e-de97-50a881df662a"
      },
      "execution_count": 11,
      "outputs": [
        {
          "output_type": "stream",
          "name": "stdout",
          "text": [
            "\n",
            "Ecuación después de balancear:\n",
            "\n",
            "Oxidación (anodo)\n",
            "(1)Fe1S2[0] + \b\b\b  ---> (1)Fe1[0] + (2)S1O4[-2] + \b\b\b        \n",
            "\n",
            "\n",
            "Oxidación (catodo)\n",
            "(4)H1Cl1[0] + \b\b\b  ---> (4)H1[0] + (4)Cl1[-1] + \b\b\b        \n",
            "\n",
            "\n",
            "Carga total del anodo: -4\n",
            "Carga total del catodo: -4\n"
          ]
        }
      ]
    },
    {
      "cell_type": "code",
      "source": [
        "# Obtener el número de moles de electrones transferidos en cada reacción\n",
        "moles_electrones_oxidacion = balanced_oxidation.get_side('product')[0].coff  # Coeficiente estequiométrico de 'e1' en la reacción de oxidación\n",
        "moles_electrones_reduccion = balanced_reduction.get_side('product')[0].coff  # Coeficiente estequiométrico de 'e1' en la reacción de reducción\n",
        "\n",
        "# Determinar el signo de los electrones en la oxidación y reducción\n",
        "signo_electrones_oxidacion = 1 if moles_electrones_oxidacion < 0 else -1\n",
        "signo_electrones_reduccion = 1 if moles_electrones_reduccion > 0 else -1\n",
        "\n",
        "electrones_oxidacion=abs(moles_electrones_oxidacion)* signo_electrones_oxidacion\n",
        "electrones_reduccion=abs(moles_electrones_reduccion)* signo_electrones_reduccion\n",
        "\n",
        "# Imprimir la cantidad de electrones transferidos y su signo\n",
        "print(\"Moles de electrones transferidos en la oxidación(anodo):\", electrones_oxidacion)\n",
        "print(\"Moles de electrones transferidos en la reducción(catodo):\", electrones_reduccion)"
      ],
      "metadata": {
        "colab": {
          "base_uri": "https://localhost:8080/"
        },
        "id": "PyOl3rAqyKuz",
        "outputId": "2698a642-2ed6-4240-87fd-8542b14f0603"
      },
      "execution_count": 12,
      "outputs": [
        {
          "output_type": "stream",
          "name": "stdout",
          "text": [
            "Moles de electrones transferidos en la oxidación(anodo): -1\n",
            "Moles de electrones transferidos en la reducción(catodo): 4\n"
          ]
        }
      ]
    },
    {
      "cell_type": "code",
      "source": [
        "# Definimos una funcion para cambiar la notacion\n",
        "def cambiar_notacion(numero):\n",
        "  numero = (format(numero,'.3E'))\n",
        "  numero = numero.replace(\"E\", \" x 10^\")\n",
        "  return numero"
      ],
      "metadata": {
        "id": "OopAhayKyN8z"
      },
      "execution_count": 13,
      "outputs": []
    },
    {
      "cell_type": "code",
      "source": [
        "# Hallamos la carga en coulomb para el anodo y catodo\n",
        "carga_electron = (-1.602*pow(10,-19))\n",
        "\n",
        "carga_c_anodo = electrones_oxidacion*carga_electron\n",
        "carga_c_catodo = electrones_reduccion*carga_electron\n",
        "\n",
        "carga_electron_not=cambiar_notacion(carga_electron)\n",
        "carga_c_anodo_not=cambiar_notacion(carga_c_anodo)\n",
        "carga_c_catodo_not=cambiar_notacion(carga_c_catodo)\n",
        "\n",
        "print(\"La carga del electron es: \",carga_electron_not)\n",
        "print(\"La carga en Coulumb de anodo: \",carga_c_anodo_not)\n",
        "print(\"La carga en Coulumb de catodo: \",carga_c_catodo_not)"
      ],
      "metadata": {
        "colab": {
          "base_uri": "https://localhost:8080/"
        },
        "id": "9GDOVdEWyQ4k",
        "outputId": "4ad70d40-e2b0-46e7-c4a7-53bd3ba2f031"
      },
      "execution_count": 14,
      "outputs": [
        {
          "output_type": "stream",
          "name": "stdout",
          "text": [
            "La carga del electron es:  -1.602 x 10^-19\n",
            "La carga en Coulumb de anodo:  1.602 x 10^-19\n",
            "La carga en Coulumb de catodo:  -6.408 x 10^-19\n"
          ]
        }
      ]
    },
    {
      "cell_type": "code",
      "source": [
        "# Potenciales estándar o potencial de celda (fem) de reducción en voltios (E°)\n",
        "standard_reduction_potentials = {\n",
        "    'Fe1[0]': 0.00,       # Potencial estándar de reducción para Fe1[0]\n",
        "    'S1O4[-2]': 1.00,     # Potencial estándar de reducción para S1O4[-2]\n",
        "    'H1[0]': 0.00,        # Potencial estándar de reducción para H1[0]\n",
        "    'Cl1[-1]': 1.36       # Potencial estándar de reducción para Cl1[-1]\n",
        "}\n",
        "\n",
        "# Cálculo del potencial estándar o potencial de celda (fem) de la celda electroquímica\n",
        "E_standard_cell = standard_reduction_potentials['Fe1[0]'] + 2 * standard_reduction_potentials['S1O4[-2]'] - (\n",
        "    standard_reduction_potentials['H1[0]'] + 4 * standard_reduction_potentials['Cl1[-1]']\n",
        ")\n",
        "\n",
        "print(f\"Potencial estándar de la celda electroquímica: {E_standard_cell:.2f} V\")"
      ],
      "metadata": {
        "colab": {
          "base_uri": "https://localhost:8080/"
        },
        "id": "doHILDFmySjU",
        "outputId": "597db3d1-2adb-4c20-99ec-707fd9a54e56"
      },
      "execution_count": 16,
      "outputs": [
        {
          "output_type": "stream",
          "name": "stdout",
          "text": [
            "Potencial estándar de la celda electroquímica: -3.44 V\n"
          ]
        }
      ]
    },
    {
      "cell_type": "code",
      "source": [
        "# Calculamos la energia\n",
        "\n",
        "energia_anodo = E_standard_cell*carga_c_anodo\n",
        "energia_catodo = E_standard_cell*carga_c_catodo\n",
        "\n",
        "energia_anodo_n = cambiar_notacion(energia_anodo)\n",
        "energia_catodo_n = cambiar_notacion(energia_catodo)\n",
        "\n",
        "print(\"La energia del anodo es: \", energia_anodo_n)\n",
        "print(\"La energia del catodo es: \", energia_catodo_n)"
      ],
      "metadata": {
        "colab": {
          "base_uri": "https://localhost:8080/"
        },
        "id": "Oi5qlpGbyUXM",
        "outputId": "d1570a24-3f2c-4c3e-e9e5-aaa88247d1c9"
      },
      "execution_count": 17,
      "outputs": [
        {
          "output_type": "stream",
          "name": "stdout",
          "text": [
            "La energia del anodo es:  -5.511 x 10^-19\n",
            "La energia del catodo es:  2.204 x 10^-18\n"
          ]
        }
      ]
    }
  ]
}